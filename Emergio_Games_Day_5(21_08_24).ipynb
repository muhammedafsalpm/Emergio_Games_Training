{
  "nbformat": 4,
  "nbformat_minor": 0,
  "metadata": {
    "colab": {
      "provenance": [],
      "authorship_tag": "ABX9TyPISoUk7znjjTevxQRYLT6G",
      "include_colab_link": true
    },
    "kernelspec": {
      "name": "python3",
      "display_name": "Python 3"
    },
    "language_info": {
      "name": "python"
    }
  },
  "cells": [
    {
      "cell_type": "markdown",
      "metadata": {
        "id": "view-in-github",
        "colab_type": "text"
      },
      "source": [
        "<a href=\"https://colab.research.google.com/github/muhammedafsalpm/Emergio_Games_Training/blob/main/Emergio_Games_Day_5(21_08_24).ipynb\" target=\"_parent\"><img src=\"https://colab.research.google.com/assets/colab-badge.svg\" alt=\"Open In Colab\"/></a>"
      ]
    },
    {
      "cell_type": "markdown",
      "source": [
        "# Python NumPy Questions (Day - 5 21/08/2024)"
      ],
      "metadata": {
        "id": "r_2Br6Q2fInz"
      }
    },
    {
      "cell_type": "markdown",
      "source": [
        "1. Write a Python program to create a 1D NumPy array with values from 0 to 9."
      ],
      "metadata": {
        "id": "kcn0N5TmfaVT"
      }
    },
    {
      "cell_type": "code",
      "execution_count": 9,
      "metadata": {
        "colab": {
          "base_uri": "https://localhost:8080/"
        },
        "id": "wx-vZW8_e5IS",
        "outputId": "60a8b68d-122b-4064-bfd3-95019d50930e"
      },
      "outputs": [
        {
          "output_type": "stream",
          "name": "stdout",
          "text": [
            "[0 1 2 3 4 5 6 7 8 9]\n"
          ]
        }
      ],
      "source": [
        "import numpy as np\n",
        "array = np.arange(10)\n",
        "\n",
        "print(array)"
      ]
    },
    {
      "cell_type": "markdown",
      "source": [
        "2. Write a Python program to create a 2D NumPy array with values from 1 to 9 arranged in 3 rows and 3 columns."
      ],
      "metadata": {
        "id": "81FN-eVBfy72"
      }
    },
    {
      "cell_type": "code",
      "source": [
        "import numpy as np\n",
        "\n",
        "array = np.reshape(np.arange(1, 10), (3, 3))\n",
        "print(array)"
      ],
      "metadata": {
        "colab": {
          "base_uri": "https://localhost:8080/"
        },
        "id": "q_i_bZZ-f1Tu",
        "outputId": "591103b4-05c6-4c76-a584-014200f05631"
      },
      "execution_count": 10,
      "outputs": [
        {
          "output_type": "stream",
          "name": "stdout",
          "text": [
            "[[1 2 3]\n",
            " [4 5 6]\n",
            " [7 8 9]]\n"
          ]
        }
      ]
    },
    {
      "cell_type": "markdown",
      "source": [
        "3. Write a Python program to find the shape of a NumPy array."
      ],
      "metadata": {
        "id": "yqVwukLBgbbT"
      }
    },
    {
      "cell_type": "code",
      "source": [
        "import numpy as np\n",
        "\n",
        "array = np.array([[1, 2, 3], [4, 5, 6]])\n",
        "shape = array.shape\n",
        "\n",
        "print(shape)"
      ],
      "metadata": {
        "colab": {
          "base_uri": "https://localhost:8080/"
        },
        "id": "K8HCq318gd-C",
        "outputId": "08eccd45-0b9c-45f4-b66a-a03b6d55b762"
      },
      "execution_count": 11,
      "outputs": [
        {
          "output_type": "stream",
          "name": "stdout",
          "text": [
            "(2, 3)\n"
          ]
        }
      ]
    },
    {
      "cell_type": "markdown",
      "source": [
        "4. Write a Python program to find the data type of elements in a NumPy array."
      ],
      "metadata": {
        "id": "sSZe0IhghCYz"
      }
    },
    {
      "cell_type": "code",
      "source": [
        "import numpy as np\n",
        "array = np.array([1, 2.5, \"Hello\", True])\n",
        "\n",
        "data_types = array.dtype\n",
        "print(data_types)"
      ],
      "metadata": {
        "colab": {
          "base_uri": "https://localhost:8080/"
        },
        "id": "yKE_X-VMhE7L",
        "outputId": "78a011b8-c46f-480c-b5aa-06d86e3d85d6"
      },
      "execution_count": 13,
      "outputs": [
        {
          "output_type": "stream",
          "name": "stdout",
          "text": [
            "<U32\n"
          ]
        }
      ]
    },
    {
      "cell_type": "markdown",
      "source": [
        "5. Write a Python program to create a NumPy array filled with zeros."
      ],
      "metadata": {
        "id": "V0K5_FgPhgy7"
      }
    },
    {
      "cell_type": "code",
      "source": [
        "import numpy as np\n",
        "\n",
        "array = np.zeros((4,3))\n",
        "print(array)"
      ],
      "metadata": {
        "colab": {
          "base_uri": "https://localhost:8080/"
        },
        "id": "_bajc69WhkHE",
        "outputId": "39b77171-f71a-40c4-e78e-e68349580521"
      },
      "execution_count": 14,
      "outputs": [
        {
          "output_type": "stream",
          "name": "stdout",
          "text": [
            "[[0. 0. 0.]\n",
            " [0. 0. 0.]\n",
            " [0. 0. 0.]\n",
            " [0. 0. 0.]]\n"
          ]
        }
      ]
    },
    {
      "cell_type": "markdown",
      "source": [
        "6. Write a Python program to create a NumPy array filled with ones."
      ],
      "metadata": {
        "id": "HNFOen6bh5l9"
      }
    },
    {
      "cell_type": "code",
      "source": [
        "import numpy as np\n",
        "\n",
        "array = np.ones((4,3))\n",
        "print(array)"
      ],
      "metadata": {
        "colab": {
          "base_uri": "https://localhost:8080/"
        },
        "id": "o0pzpUPwh8Lt",
        "outputId": "a20eee9a-5b80-499b-b85d-7eb3cc30a314"
      },
      "execution_count": 15,
      "outputs": [
        {
          "output_type": "stream",
          "name": "stdout",
          "text": [
            "[[1. 1. 1.]\n",
            " [1. 1. 1.]\n",
            " [1. 1. 1.]\n",
            " [1. 1. 1.]]\n"
          ]
        }
      ]
    },
    {
      "cell_type": "markdown",
      "source": [
        "7. Write a Python program to create an identity matrix of size 3x3 using NumPy."
      ],
      "metadata": {
        "id": "uXw0fvIqiAlw"
      }
    },
    {
      "cell_type": "code",
      "source": [
        "import numpy as np\n",
        "\n",
        "#Method 1\n",
        "identity_matrix = np.eye(3, 3)\n",
        "print(identity_matrix)\n",
        "\n",
        "#Method 2\n",
        "identity_matrix_2 = np.identity(3)\n",
        "print(identity_matrix_2)"
      ],
      "metadata": {
        "colab": {
          "base_uri": "https://localhost:8080/"
        },
        "id": "Mu4NZuSniDDw",
        "outputId": "cdc65666-d405-47d7-9b3b-d0643e76210e"
      },
      "execution_count": 27,
      "outputs": [
        {
          "output_type": "stream",
          "name": "stdout",
          "text": [
            "[[1. 0. 0.]\n",
            " [0. 1. 0.]\n",
            " [0. 0. 1.]]\n",
            "[[1. 0. 0.]\n",
            " [0. 1. 0.]\n",
            " [0. 0. 1.]]\n"
          ]
        }
      ]
    },
    {
      "cell_type": "markdown",
      "source": [
        "8. Write a Python program to generate a NumPy array of random numbers."
      ],
      "metadata": {
        "id": "OIiCkBZsjCPH"
      }
    },
    {
      "cell_type": "code",
      "source": [
        "import numpy as np\n",
        "random_array = np.random.rand(5)\n",
        "\n",
        "print(random_array)"
      ],
      "metadata": {
        "colab": {
          "base_uri": "https://localhost:8080/"
        },
        "id": "iwxxHsD9jFsm",
        "outputId": "9c76c2f7-2bc1-4f92-ca1b-1c619bf10070"
      },
      "execution_count": 28,
      "outputs": [
        {
          "output_type": "stream",
          "name": "stdout",
          "text": [
            "[0.08049139 0.95584113 0.51822659 0.47080533 0.53459158]\n"
          ]
        }
      ]
    },
    {
      "cell_type": "markdown",
      "source": [
        "9. Write a Python program to find the maximum value in a NumPy array."
      ],
      "metadata": {
        "id": "2UpbjaIHjSNe"
      }
    },
    {
      "cell_type": "code",
      "source": [
        "size = int(input(\"Enter the size of the array: \"))\n",
        "array = np.zeros(size)\n",
        "\n",
        "for i in range(size):\n",
        "    array[i] = float(input(f\"Enter element {i+1}: \"))\n",
        "\n",
        "max_value = np.max(array)\n",
        "print(max_value)"
      ],
      "metadata": {
        "colab": {
          "base_uri": "https://localhost:8080/"
        },
        "id": "1LRBH_wCjUpW",
        "outputId": "13d35e9c-8f90-41a3-9222-abea73d8ca47"
      },
      "execution_count": 33,
      "outputs": [
        {
          "output_type": "stream",
          "name": "stdout",
          "text": [
            "Enter the size of the array: 5\n",
            "Enter element 1: 12\n",
            "Enter element 2: 89\n",
            "Enter element 3: 66\n",
            "Enter element 4: 25\n",
            "Enter element 5: 10\n",
            "89.0\n"
          ]
        }
      ]
    },
    {
      "cell_type": "markdown",
      "source": [
        "10. Write a Python program to find the minimum value in a NumPy array."
      ],
      "metadata": {
        "id": "YURMdhtYksWP"
      }
    },
    {
      "cell_type": "code",
      "source": [
        "size = int(input(\"Enter the size of the array: \"))\n",
        "array = np.zeros(size)\n",
        "\n",
        "for i in range(size):\n",
        "  array[i] = float(input(f\"Enter element {i+1}: \"))\n",
        "\n",
        "min_value = np.min(array)\n",
        "print(\"Minimum Value is :\",min_value)"
      ],
      "metadata": {
        "colab": {
          "base_uri": "https://localhost:8080/"
        },
        "id": "VKJr6OjWkuue",
        "outputId": "a53ad62e-bf49-4a4d-e157-f6024cf34c21"
      },
      "execution_count": 34,
      "outputs": [
        {
          "output_type": "stream",
          "name": "stdout",
          "text": [
            "Enter the size of the array: 5\n",
            "Enter element 1: 25\n",
            "Enter element 2: 40\n",
            "Enter element 3: 03\n",
            "Enter element 4: 96\n",
            "Enter element 5: 5\n",
            "Minimum Value is : 3.0\n"
          ]
        }
      ]
    },
    {
      "cell_type": "markdown",
      "source": [
        "11. Write a Python program to calculate the sum of all elements in a NumPy array."
      ],
      "metadata": {
        "id": "AuuXEVn9leZA"
      }
    },
    {
      "cell_type": "code",
      "source": [
        "size = int(input(\"Enter the size of the array: \"))\n",
        "array = np.zeros(size)\n",
        "for i in range(size):\n",
        "  array[i] = float(input(f\"Enter element {i+1}: \"))\n",
        "\n",
        "print(\"Sum is \",sum(array))"
      ],
      "metadata": {
        "colab": {
          "base_uri": "https://localhost:8080/"
        },
        "id": "Ea3SjW0rlgi5",
        "outputId": "59ac81c7-5486-4d7d-b203-b8f5cc2a0f28"
      },
      "execution_count": 35,
      "outputs": [
        {
          "output_type": "stream",
          "name": "stdout",
          "text": [
            "Enter the size of the array: 4\n",
            "Enter element 1: 32\n",
            "Enter element 2: 74\n",
            "Enter element 3: 10\n",
            "Enter element 4: 13\n",
            "Sum is  129.0\n"
          ]
        }
      ]
    },
    {
      "cell_type": "markdown",
      "source": [
        "12. Write a Python program to calculate the mean of all elements in a NumPy array."
      ],
      "metadata": {
        "id": "gToi4N1_l8Oy"
      }
    },
    {
      "cell_type": "code",
      "source": [
        "size = int(input(\"Enter the size of the array: \"))\n",
        "array = np.zeros(size)\n",
        "for i in range(size):\n",
        "  array[i] = float(input(f\"Enter element {i+1}: \"))\n",
        "\n",
        "print(\"Sum is \",np.mean(array))"
      ],
      "metadata": {
        "colab": {
          "base_uri": "https://localhost:8080/"
        },
        "id": "caVQMfnvl_xK",
        "outputId": "8bd037dd-76ac-46b5-cfb8-6efdd416c4cb"
      },
      "execution_count": 37,
      "outputs": [
        {
          "output_type": "stream",
          "name": "stdout",
          "text": [
            "Enter the size of the array: 5\n",
            "Enter element 1: 32\n",
            "Enter element 2: 85\n",
            "Enter element 3: 10\n",
            "Enter element 4: 60\n",
            "Enter element 5: 5\n",
            "Sum is  38.4\n"
          ]
        }
      ]
    },
    {
      "cell_type": "markdown",
      "source": [
        "13. Write a Python program to create a 2D NumPy array and flatten it to a 1D array."
      ],
      "metadata": {
        "id": "CSryEPDem5_a"
      }
    },
    {
      "cell_type": "code",
      "source": [
        "import numpy as np\n",
        "\n",
        "rows = int(input(\"Enter the number of rows: \"))\n",
        "cols = int(input(\"Enter the number of columns: \"))\n",
        "\n",
        "array_2d = np.zeros((rows, cols))\n",
        "\n",
        "for i in range(rows):\n",
        "    for j in range(cols):\n",
        "        array_2d[i, j] = float(input(f\"Enter element ({i+1}, {j+1}): \"))\n",
        "array_1d = array_2d.flatten()\n",
        "\n",
        "print(\"Flattened array:\", array_1d)"
      ],
      "metadata": {
        "colab": {
          "base_uri": "https://localhost:8080/"
        },
        "id": "NPVazD9sm8sa",
        "outputId": "0736ac08-7b00-45bd-af83-d802bac0d85b"
      },
      "execution_count": 38,
      "outputs": [
        {
          "output_type": "stream",
          "name": "stdout",
          "text": [
            "Enter the number of rows: 3\n",
            "Enter the number of columns: 2\n",
            "Enter element (1, 1): 10\n",
            "Enter element (1, 2): 56\n",
            "Enter element (2, 1): 15\n",
            "Enter element (2, 2): 96\n",
            "Enter element (3, 1): 02\n",
            "Enter element (3, 2): 30\n",
            "Flattened array: [10. 56. 15. 96.  2. 30.]\n"
          ]
        }
      ]
    },
    {
      "cell_type": "markdown",
      "source": [
        "14. Write a Python program to create a NumPy array and reshape it to a different shape."
      ],
      "metadata": {
        "id": "Ts1jCZQNnkyT"
      }
    },
    {
      "cell_type": "code",
      "source": [
        "import numpy as np\n",
        "\n",
        "array = np.array([74, 62, 43, 85, 52, 6])\n",
        "array_reshaped = array.reshape(2,3)\n",
        "\n",
        "print(array_reshaped)"
      ],
      "metadata": {
        "colab": {
          "base_uri": "https://localhost:8080/"
        },
        "id": "JTcCxPeennhy",
        "outputId": "c8a18a5c-e491-4ffa-de4f-8d8efedd72f4"
      },
      "execution_count": 40,
      "outputs": [
        {
          "output_type": "stream",
          "name": "stdout",
          "text": [
            "[[74 62 43]\n",
            " [85 52  6]]\n"
          ]
        }
      ]
    },
    {
      "cell_type": "markdown",
      "source": [
        "15. Write a Python program to stack two NumPy arrays vertically."
      ],
      "metadata": {
        "id": "lMTGMevon-Cr"
      }
    },
    {
      "cell_type": "code",
      "source": [
        "import numpy as np\n",
        "\n",
        "array1 = np.array([11, 52, 41])\n",
        "array2 = np.array([43, 55, 17])\n",
        "\n",
        "stacked_array = np.vstack((array1, array2))\n",
        "print(stacked_array)"
      ],
      "metadata": {
        "colab": {
          "base_uri": "https://localhost:8080/"
        },
        "id": "TY-dvafIoBcL",
        "outputId": "532fb529-f280-4b9c-d3c3-78b2401be8ac"
      },
      "execution_count": 42,
      "outputs": [
        {
          "output_type": "stream",
          "name": "stdout",
          "text": [
            "[[11 52 41]\n",
            " [43 55 17]]\n"
          ]
        }
      ]
    },
    {
      "cell_type": "markdown",
      "source": [
        "16. Write a Python program to stack two NumPy arrays horizontally."
      ],
      "metadata": {
        "id": "emfmrcQ3oToj"
      }
    },
    {
      "cell_type": "code",
      "source": [
        "import numpy as np\n",
        "\n",
        "array1 = np.array([11, 52, 41])\n",
        "array2 = np.array([43, 55, 17])\n",
        "\n",
        "stacked_array = np.hstack((array1, array2))\n",
        "print(stacked_array)"
      ],
      "metadata": {
        "colab": {
          "base_uri": "https://localhost:8080/"
        },
        "id": "K7ZsojNsoWKy",
        "outputId": "592fe9b4-0978-4cc1-8470-3eeb46130462"
      },
      "execution_count": 43,
      "outputs": [
        {
          "output_type": "stream",
          "name": "stdout",
          "text": [
            "[11 52 41 43 55 17]\n"
          ]
        }
      ]
    },
    {
      "cell_type": "markdown",
      "source": [
        "17. Write a Python program to create a NumPy array and reverse its elements."
      ],
      "metadata": {
        "id": "qBLeoqLTokdT"
      }
    },
    {
      "cell_type": "code",
      "source": [
        "import numpy as np\n",
        "\n",
        "array = np.array([74, 62, 43, 85, 52, 6])\n",
        "reversed_array = array[::-1]\n",
        "\n",
        "\n",
        "print(reversed_array)"
      ],
      "metadata": {
        "colab": {
          "base_uri": "https://localhost:8080/"
        },
        "id": "JPvUormbom9b",
        "outputId": "bb360435-69bc-4466-d9bf-38e9b1450a5e"
      },
      "execution_count": 44,
      "outputs": [
        {
          "output_type": "stream",
          "name": "stdout",
          "text": [
            "[ 6 52 85 43 62 74]\n"
          ]
        }
      ]
    },
    {
      "cell_type": "markdown",
      "source": [
        "18. Write a Python program to find the unique elements in a NumPy array."
      ],
      "metadata": {
        "id": "YZStu3a5qK0U"
      }
    },
    {
      "cell_type": "code",
      "source": [
        "import numpy as np\n",
        "\n",
        "array = np.array([14, 14, 10, 3, 3, 44])\n",
        "\n",
        "unique_elements = np.unique(array)\n",
        "print(unique_elements)"
      ],
      "metadata": {
        "colab": {
          "base_uri": "https://localhost:8080/"
        },
        "id": "gd1gbBC6qPQk",
        "outputId": "bba7907f-3d6d-4fcd-c7f3-41775e91ae1b"
      },
      "execution_count": 46,
      "outputs": [
        {
          "output_type": "stream",
          "name": "stdout",
          "text": [
            "[ 3 10 14 44]\n"
          ]
        }
      ]
    },
    {
      "cell_type": "markdown",
      "source": [
        "19. Write a Python program to create a NumPy array and find its transpose."
      ],
      "metadata": {
        "id": "l7a2BIL5qeZE"
      }
    },
    {
      "cell_type": "code",
      "source": [
        "import numpy as np\n",
        "\n",
        "array = np.array([[1, 2, 3], [4, 5, 6]])\n",
        "print(array.T)"
      ],
      "metadata": {
        "colab": {
          "base_uri": "https://localhost:8080/"
        },
        "id": "8Xe_UlRhrM8c",
        "outputId": "3e5ee267-4734-4549-b7f6-d22822b7bfd7"
      },
      "execution_count": 52,
      "outputs": [
        {
          "output_type": "stream",
          "name": "stdout",
          "text": [
            "[[1 4]\n",
            " [2 5]\n",
            " [3 6]]\n"
          ]
        }
      ]
    },
    {
      "cell_type": "markdown",
      "source": [
        "20. Write a Python program to slice a NumPy array and print a specific section of it."
      ],
      "metadata": {
        "id": "28lkL0qDrWuL"
      }
    },
    {
      "cell_type": "code",
      "source": [
        "import numpy as np\n",
        "\n",
        "array = np.array([[1, 2, 3], [4, 5, 6], [7, 8, 9]])\n",
        "\n",
        "sliced_array = array[:2, 1]\n",
        "print(sliced_array)"
      ],
      "metadata": {
        "colab": {
          "base_uri": "https://localhost:8080/"
        },
        "id": "k0O4_FwnrZPs",
        "outputId": "d8619646-a09d-4ecc-996b-36db012d26a3"
      },
      "execution_count": 53,
      "outputs": [
        {
          "output_type": "stream",
          "name": "stdout",
          "text": [
            "[2 5]\n"
          ]
        }
      ]
    },
    {
      "cell_type": "markdown",
      "source": [
        "21. Write a Python program to perform element-wise addition of two NumPy arrays"
      ],
      "metadata": {
        "id": "8Z13s0_8stQl"
      }
    },
    {
      "cell_type": "code",
      "source": [
        "import numpy as np\n",
        "\n",
        "array1 = np.array([11, 42, 63])\n",
        "array2 = np.array([54, 45, 6])\n",
        "\n",
        "result = array1 + array2\n",
        "\n",
        "print(result)"
      ],
      "metadata": {
        "colab": {
          "base_uri": "https://localhost:8080/"
        },
        "id": "P0AFyo9aswe8",
        "outputId": "39146984-f23e-4086-9d6d-45a2e556e016"
      },
      "execution_count": 54,
      "outputs": [
        {
          "output_type": "stream",
          "name": "stdout",
          "text": [
            "[65 87 69]\n"
          ]
        }
      ]
    },
    {
      "cell_type": "markdown",
      "source": [
        "22. Write a Python program to perform element-wise multiplication of two NumPy arrays."
      ],
      "metadata": {
        "id": "Xp6iUDz6tG15"
      }
    },
    {
      "cell_type": "code",
      "source": [
        "import numpy as np\n",
        "\n",
        "array1 = np.array([11, 42, 63])\n",
        "array2 = np.array([54, 45, 6])\n",
        "\n",
        "result = array1 * array2\n",
        "\n",
        "print(result)"
      ],
      "metadata": {
        "colab": {
          "base_uri": "https://localhost:8080/"
        },
        "id": "Pta0fgJ1tJO5",
        "outputId": "9c7250dc-5b26-4770-8600-9c5e51c5f690"
      },
      "execution_count": 55,
      "outputs": [
        {
          "output_type": "stream",
          "name": "stdout",
          "text": [
            "[ 594 1890  378]\n"
          ]
        }
      ]
    },
    {
      "cell_type": "markdown",
      "source": [
        "23. Write a Python program to calculate the dot product of two NumPy arrays."
      ],
      "metadata": {
        "id": "EvfBODaatONJ"
      }
    },
    {
      "cell_type": "code",
      "source": [
        "import numpy as np\n",
        "\n",
        "array1 = np.array([11, 42, 63])\n",
        "array2 = np.array([54, 45, 6])\n",
        "\n",
        "result = np.dot(array1,array2)\n",
        "\n",
        "print(result)"
      ],
      "metadata": {
        "colab": {
          "base_uri": "https://localhost:8080/"
        },
        "id": "u2i1lGp8tSvG",
        "outputId": "f2ee06c4-0842-457e-99eb-fe97724054b3"
      },
      "execution_count": 56,
      "outputs": [
        {
          "output_type": "stream",
          "name": "stdout",
          "text": [
            "2862\n"
          ]
        }
      ]
    },
    {
      "cell_type": "markdown",
      "source": [
        "24. Write a Python program to multiply a NumPy array by a scalar value."
      ],
      "metadata": {
        "id": "S9sikIJqwQ04"
      }
    },
    {
      "cell_type": "code",
      "source": [
        "import numpy as np\n",
        "\n",
        "array = np.array([74, 62, 43, 85, 52, 6])\n",
        "\n",
        "scalar_value = 2\n",
        "result = array * scalar_value\n",
        "\n",
        "print(result)"
      ],
      "metadata": {
        "colab": {
          "base_uri": "https://localhost:8080/"
        },
        "id": "VQiYJvtbwTZh",
        "outputId": "07fcf887-a2bc-490f-8d05-4f2ecdd82cac"
      },
      "execution_count": 57,
      "outputs": [
        {
          "output_type": "stream",
          "name": "stdout",
          "text": [
            "[148 124  86 170 104  12]\n"
          ]
        }
      ]
    },
    {
      "cell_type": "markdown",
      "source": [
        "25. Write a Python program to find the inverse of a 2x2 NumPy matrix."
      ],
      "metadata": {
        "id": "GOx-hQn3whnp"
      }
    },
    {
      "cell_type": "code",
      "source": [
        "import numpy as np\n",
        "matrix = np.array([[24, 11],\n",
        "                   [83, 48]])\n",
        "\n",
        "inverse_matrix = np.linalg.inv(matrix)\n",
        "\n",
        "print(inverse_matrix)"
      ],
      "metadata": {
        "colab": {
          "base_uri": "https://localhost:8080/"
        },
        "id": "AnR8XaO9wk35",
        "outputId": "ccad71f5-8ff3-47a2-b4d2-52f0706778f7"
      },
      "execution_count": 58,
      "outputs": [
        {
          "output_type": "stream",
          "name": "stdout",
          "text": [
            "[[ 0.20083682 -0.0460251 ]\n",
            " [-0.34728033  0.10041841]]\n"
          ]
        }
      ]
    },
    {
      "cell_type": "markdown",
      "source": [
        "26. Write a Python program to solve a system of linear equations using NumPy."
      ],
      "metadata": {
        "id": "JDQ7lFyzxuZz"
      }
    },
    {
      "cell_type": "code",
      "source": [
        "import numpy as np\n",
        "\n",
        "coefficients = np.array([[2, 1],\n",
        "                         [3, 4]])\n",
        "constants = np.array([5, 11])\n",
        "\n",
        "solution = np.linalg.solve(coefficients, constants)\n",
        "\n",
        "print(solution)"
      ],
      "metadata": {
        "colab": {
          "base_uri": "https://localhost:8080/"
        },
        "id": "SRzdvUVxxxIB",
        "outputId": "8174c94c-0d33-4d9d-ca09-b78474d29c50"
      },
      "execution_count": 59,
      "outputs": [
        {
          "output_type": "stream",
          "name": "stdout",
          "text": [
            "[1.8 1.4]\n"
          ]
        }
      ]
    },
    {
      "cell_type": "markdown",
      "source": [
        "27. Write a Python program to compute the eigenvalues and eigenvectors of a square NumPy matrix."
      ],
      "metadata": {
        "id": "iEQ2Earayo-p"
      }
    },
    {
      "cell_type": "code",
      "source": [
        "import numpy as np\n",
        "\n",
        "matrix = np.array([[11, 55],\n",
        "                   [31, 43]])\n",
        "\n",
        "eigenvalues, eigenvectors = np.linalg.eig(matrix)\n",
        "\n",
        "print(\"Eigenvalues:\", eigenvalues)\n",
        "print(\"Eigenvectors:\", eigenvectors)"
      ],
      "metadata": {
        "colab": {
          "base_uri": "https://localhost:8080/"
        },
        "id": "J5DmnlTFyrux",
        "outputId": "6bb30ecd-07bc-4698-95ce-7dc2b341789b"
      },
      "execution_count": 61,
      "outputs": [
        {
          "output_type": "stream",
          "name": "stdout",
          "text": [
            "Eigenvalues: [-17.28317965  71.28317965]\n",
            "Eigenvectors: [[-0.88930447 -0.67399421]\n",
            " [ 0.4573156  -0.73873662]]\n"
          ]
        }
      ]
    },
    {
      "cell_type": "markdown",
      "source": [
        "28. Write a Python program to calculate the determinant of a square NumPy matrix."
      ],
      "metadata": {
        "id": "9SmM1cOX0Qqx"
      }
    },
    {
      "cell_type": "code",
      "source": [
        "import numpy as np\n",
        "\n",
        "matrix = np.array([[11, 55],\n",
        "                   [31, 43]])\n",
        "\n",
        "determinant = np.linalg.det(matrix)\n",
        "print(\"Determinant is \",determinant)"
      ],
      "metadata": {
        "colab": {
          "base_uri": "https://localhost:8080/"
        },
        "id": "z1YD_qlu0USC",
        "outputId": "565b4464-bc61-4d88-d58c-4a9f4362109d"
      },
      "execution_count": 62,
      "outputs": [
        {
          "output_type": "stream",
          "name": "stdout",
          "text": [
            "Determinant is  -1232.0000000000007\n"
          ]
        }
      ]
    },
    {
      "cell_type": "markdown",
      "source": [
        "29. Write a Python program to find the sum of elements along the diagonal of a NumPy matrix."
      ],
      "metadata": {
        "id": "uZK2w8yG1nic"
      }
    },
    {
      "cell_type": "code",
      "source": [
        "import numpy as np\n",
        "\n",
        "matrix = np.array([[14, 74, 43],\n",
        "                   [4, 54, 55],\n",
        "                   [47, 84, 9]])\n",
        "\n",
        "diagonal_sum = np.trace(matrix)\n",
        "\n",
        "print(\"Diagonal sum:\", diagonal_sum)"
      ],
      "metadata": {
        "colab": {
          "base_uri": "https://localhost:8080/"
        },
        "id": "YKDMgcdN1obU",
        "outputId": "01a4e08b-3b99-47fd-97fa-29b23c3cdd55"
      },
      "execution_count": 63,
      "outputs": [
        {
          "output_type": "stream",
          "name": "stdout",
          "text": [
            "Diagonal sum: 77\n"
          ]
        }
      ]
    },
    {
      "cell_type": "markdown",
      "source": [
        "30. Write a Python program to find the cumulative sum of elements in a NumPy array."
      ],
      "metadata": {
        "id": "jLyFu9Su11k1"
      }
    },
    {
      "cell_type": "code",
      "source": [
        "import numpy as np\n",
        "\n",
        "array = np.array([74, 62, 43, 85, 52, 6])\n",
        "cumulative_sum = np.cumsum(array)\n",
        "\n",
        "print(cumulative_sum)"
      ],
      "metadata": {
        "colab": {
          "base_uri": "https://localhost:8080/"
        },
        "id": "LriZSqvv14dd",
        "outputId": "2afbf31c-5ba1-417f-ad3c-c7a32c485250"
      },
      "execution_count": 64,
      "outputs": [
        {
          "output_type": "stream",
          "name": "stdout",
          "text": [
            "[ 74 136 179 264 316 322]\n"
          ]
        }
      ]
    },
    {
      "cell_type": "markdown",
      "source": [
        "31. Write a Python program to perform matrix multiplication using NumPy."
      ],
      "metadata": {
        "id": "IXhpgY5K2fUm"
      }
    },
    {
      "cell_type": "code",
      "source": [
        "import numpy as np\n",
        "\n",
        "matrix1 = np.array([[11, 42],\n",
        "                    [41, 47]])\n",
        "matrix2 = np.array([[75, 46],\n",
        "                    [78, 80]])\n",
        "\n",
        "result = np.dot(matrix1, matrix2)\n",
        "\n",
        "print(result)"
      ],
      "metadata": {
        "colab": {
          "base_uri": "https://localhost:8080/"
        },
        "id": "tZ2e6pgnJt1-",
        "outputId": "25fbcec1-0656-4821-8d47-6b2bc5e00e86"
      },
      "execution_count": 65,
      "outputs": [
        {
          "output_type": "stream",
          "name": "stdout",
          "text": [
            "[[4101 3866]\n",
            " [6741 5646]]\n"
          ]
        }
      ]
    },
    {
      "cell_type": "markdown",
      "source": [
        "32. Write a Python program to compute the cross product of two 3D NumPy vectors."
      ],
      "metadata": {
        "id": "q0NVQzEvKE5L"
      }
    },
    {
      "cell_type": "code",
      "source": [
        "import numpy as np\n",
        "\n",
        "vector1 = np.array([54, 72, 43])\n",
        "vector2 = np.array([14, 45, 56])\n",
        "\n",
        "cross_product = np.cross(vector1, vector2)\n",
        "print(cross_product)"
      ],
      "metadata": {
        "colab": {
          "base_uri": "https://localhost:8080/"
        },
        "id": "UvbBrKx2KHNS",
        "outputId": "2aa748eb-40f5-404c-89f1-c0460a8d52c7"
      },
      "execution_count": 66,
      "outputs": [
        {
          "output_type": "stream",
          "name": "stdout",
          "text": [
            "[ 2097 -2422  1422]\n"
          ]
        }
      ]
    },
    {
      "cell_type": "markdown",
      "source": [
        "33. Write a Python program to implement the convolution of two 1D NumPy arrays."
      ],
      "metadata": {
        "id": "htIZLJwwKbzW"
      }
    },
    {
      "cell_type": "code",
      "source": [
        "import numpy as np\n",
        "\n",
        "matrix1 = np.array([54, 72, 43])\n",
        "matrix2 = np.array([14, 45, 56])\n",
        "\n",
        "y = np.convolve(matrix1, matrix2, mode='full')\n",
        "\n",
        "print(y)"
      ],
      "metadata": {
        "colab": {
          "base_uri": "https://localhost:8080/"
        },
        "id": "vSJqB44zKevt",
        "outputId": "e66fa437-dadc-41a0-b23f-725e0fa65b31"
      },
      "execution_count": 68,
      "outputs": [
        {
          "output_type": "stream",
          "name": "stdout",
          "text": [
            "[ 756 3438 6866 5967 2408]\n"
          ]
        }
      ]
    },
    {
      "cell_type": "markdown",
      "source": [
        "34. Write a Python program to compute the Fast Fourier Transform (FFT) of a NumPy array."
      ],
      "metadata": {
        "id": "iszUkVkEL0SD"
      }
    },
    {
      "cell_type": "code",
      "source": [
        "import numpy as np\n",
        "\n",
        "array = np.array([5, 5, 3, 4, 7])\n",
        "\n",
        "fft_result = np.fft.fft(array)\n",
        "print(fft_result)"
      ],
      "metadata": {
        "colab": {
          "base_uri": "https://localhost:8080/"
        },
        "id": "FDR-X0l5L4kc",
        "outputId": "16bcda9e-c02a-4089-aae6-3a5bc26232c3"
      },
      "execution_count": 72,
      "outputs": [
        {
          "output_type": "stream",
          "name": "stdout",
          "text": [
            "[24.        +0.j          3.04508497+2.48989828j -2.54508497+0.22451399j\n",
            " -2.54508497-0.22451399j  3.04508497-2.48989828j]\n"
          ]
        }
      ]
    },
    {
      "cell_type": "markdown",
      "source": [
        "35. Write a Python program to perform singular value decomposition (SVD) on a NumPy matrix."
      ],
      "metadata": {
        "id": "n-PhlzzuMbsu"
      }
    },
    {
      "cell_type": "code",
      "source": [
        "import numpy as np\n",
        "\n",
        "matrix = np.array([[14, 45],\n",
        "                   [43, 77]])\n",
        "\n",
        "U, sigma, VT = np.linalg.svd(matrix)\n",
        "\n",
        "print(\"U:\",U)\n",
        "print(\"Sigma:\",sigma)\n",
        "print(\"V^H:\",VT)\n"
      ],
      "metadata": {
        "colab": {
          "base_uri": "https://localhost:8080/"
        },
        "id": "KWZIdU7AMd_F",
        "outputId": "ddc58a4e-4792-4cfd-93a4-aa3ac4f3356c"
      },
      "execution_count": 73,
      "outputs": [
        {
          "output_type": "stream",
          "name": "stdout",
          "text": [
            "U: [[-0.46684839 -0.88433737]\n",
            " [-0.88433737  0.46684839]]\n",
            "Sigma: [99.62429474  8.60231937]\n",
            "V^H: [[-0.44730439 -0.89438179]\n",
            " [ 0.89438179 -0.44730439]]\n"
          ]
        }
      ]
    },
    {
      "cell_type": "markdown",
      "source": [
        "36. Write a Python program to generate a random 3D NumPy array and find the indices of the maximum value."
      ],
      "metadata": {
        "id": "wY_LCIxHM5LY"
      }
    },
    {
      "cell_type": "code",
      "source": [
        "import numpy as np\n",
        "\n",
        "random_array = np.random.rand(13, 42, 35)\n",
        "\n",
        "max_indices = np.unravel_index(np.argmax(random_array), random_array.shape)\n",
        "print(\"Indices of the maximum value:\", max_indices)"
      ],
      "metadata": {
        "colab": {
          "base_uri": "https://localhost:8080/"
        },
        "id": "Z-vORlGoNA7H",
        "outputId": "1f825171-e816-4886-ca81-f9814d6aa918"
      },
      "execution_count": 74,
      "outputs": [
        {
          "output_type": "stream",
          "name": "stdout",
          "text": [
            "Indices of the maximum value: (9, 12, 0)\n"
          ]
        }
      ]
    },
    {
      "cell_type": "markdown",
      "source": [
        "37. Write a Python program to solve a quadratic equation using NumPy."
      ],
      "metadata": {
        "id": "77Fop_JkNZn-"
      }
    },
    {
      "cell_type": "code",
      "source": [
        "import numpy as np\n",
        "\n",
        "a = 1\n",
        "b = -5\n",
        "c = 6\n",
        "\n",
        "discriminant = b**2 - 4*a*c\n",
        "\n",
        "if discriminant > 0:\n",
        "    x1 = (-b + np.sqrt(discriminant)) / (2*a)\n",
        "    x2 = (-b - np.sqrt(discriminant)) / (2*a)\n",
        "    print(\"Solutions:\", x1, x2)\n",
        "elif discriminant == 0:\n",
        "    x = -b / (2*a)\n",
        "    print(\"Solution:\", x)\n",
        "else:\n",
        "    print(\"No real solutions.\")"
      ],
      "metadata": {
        "colab": {
          "base_uri": "https://localhost:8080/"
        },
        "id": "vl25w9s4NcJM",
        "outputId": "43e53dd6-5f8d-4ca0-becf-cc483dcff641"
      },
      "execution_count": 75,
      "outputs": [
        {
          "output_type": "stream",
          "name": "stdout",
          "text": [
            "Solutions: 3.0 2.0\n"
          ]
        }
      ]
    },
    {
      "cell_type": "markdown",
      "source": [
        "38. Write a Python program to perform matrix exponentiation using NumPy."
      ],
      "metadata": {
        "id": "rqtEHs2FN1Mv"
      }
    },
    {
      "cell_type": "code",
      "source": [
        "import numpy as np\n",
        "\n",
        "matrix = np.array([[14, 82],\n",
        "                   [43, 48]])\n",
        "\n",
        "matrix_exp = np.linalg.matrix_power(matrix, 3)\n",
        "print(matrix_exp)"
      ],
      "metadata": {
        "colab": {
          "base_uri": "https://localhost:8080/"
        },
        "id": "AXaKtOSiN-QT",
        "outputId": "b442c0d1-9125-45de-ec17-bb72ebc598f4"
      },
      "execution_count": 76,
      "outputs": [
        {
          "output_type": "stream",
          "name": "stdout",
          "text": [
            "[[270720 549236]\n",
            " [288014 498452]]\n"
          ]
        }
      ]
    },
    {
      "cell_type": "markdown",
      "source": [
        "39. Write a Python program to create a 3x3x3 NumPy array with random values and compute its inverse."
      ],
      "metadata": {
        "id": "NMngWum6Of8a"
      }
    },
    {
      "cell_type": "code",
      "source": [
        "import numpy as np\n",
        "random_array = np.random.rand(3, 3, 3)\n",
        "inverse_array = np.linalg.inv(random_array)\n",
        "\n",
        "print(\"Inverse matrix:\")\n",
        "print(inverse_array)"
      ],
      "metadata": {
        "colab": {
          "base_uri": "https://localhost:8080/"
        },
        "id": "IfDDcrn9OjJJ",
        "outputId": "119f90a9-f5ea-4722-a06e-b362ccbc27aa"
      },
      "execution_count": 77,
      "outputs": [
        {
          "output_type": "stream",
          "name": "stdout",
          "text": [
            "Inverse matrix:\n",
            "[[[-3.56296733 -1.61363734  3.61885728]\n",
            "  [14.80924674  1.79482519 -8.01111671]\n",
            "  [-1.88783029  1.49788368  0.62631502]]\n",
            "\n",
            " [[-0.15888195 -0.14341685  1.75553909]\n",
            "  [-0.64448226  2.06729108  0.26041865]\n",
            "  [ 1.89583367 -2.16562854 -1.27779864]]\n",
            "\n",
            " [[-4.42916445  3.6803297   3.26074878]\n",
            "  [ 2.15433874 -0.70628746 -1.80320919]\n",
            "  [ 4.118948   -3.52696803 -1.74901606]]]\n"
          ]
        }
      ]
    },
    {
      "cell_type": "markdown",
      "source": [
        "40. Write a Python program to implement a simple linear regression using NumPy."
      ],
      "metadata": {
        "id": "YSXQE3H9O5r_"
      }
    },
    {
      "cell_type": "code",
      "source": [
        "import numpy as np\n",
        "\n",
        "X = np.array([[7, 1],\n",
        "              [3, 9],\n",
        "              [3, 6]])\n",
        "y = np.array([2, 4, 6])\n",
        "\n",
        "X = np.hstack((np.ones((X.shape[0], 1)), X))\n",
        "\n",
        "coefficients = np.linalg.inv(X.T @ X) @ X.T @ y\n",
        "\n",
        "slope = coefficients[1]\n",
        "intercept = coefficients[0]\n",
        "\n",
        "print(\"Slope:\", slope)\n",
        "print(\"Intercept:\", intercept)"
      ],
      "metadata": {
        "colab": {
          "base_uri": "https://localhost:8080/"
        },
        "id": "m9yLwQSjO8OH",
        "outputId": "4d69e73d-9c45-4453-91ad-8958e0c9d68f"
      },
      "execution_count": 78,
      "outputs": [
        {
          "output_type": "stream",
          "name": "stdout",
          "text": [
            "Slope: -1.8333333333333446\n",
            "Intercept: 15.500000000000098\n"
          ]
        }
      ]
    }
  ]
}