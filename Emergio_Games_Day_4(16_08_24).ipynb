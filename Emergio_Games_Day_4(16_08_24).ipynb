{
  "nbformat": 4,
  "nbformat_minor": 0,
  "metadata": {
    "colab": {
      "provenance": [],
      "authorship_tag": "ABX9TyOXnhkbapPBGIyUnmsTvVQB",
      "include_colab_link": true
    },
    "kernelspec": {
      "name": "python3",
      "display_name": "Python 3"
    },
    "language_info": {
      "name": "python"
    }
  },
  "cells": [
    {
      "cell_type": "markdown",
      "metadata": {
        "id": "view-in-github",
        "colab_type": "text"
      },
      "source": [
        "<a href=\"https://colab.research.google.com/github/muhammedafsalpm/Emergio_Games_Training/blob/main/Emergio_Games_Day_4(16_08_24).ipynb\" target=\"_parent\"><img src=\"https://colab.research.google.com/assets/colab-badge.svg\" alt=\"Open In Colab\"/></a>"
      ]
    },
    {
      "cell_type": "markdown",
      "source": [
        "# **Python Loop Statements Questions (Day 4) - 16/08/2024**"
      ],
      "metadata": {
        "id": "EvW72GKuu2NP"
      }
    },
    {
      "cell_type": "markdown",
      "source": [
        "1. Write a Python program to print numbers from 1 to 10 using a for loop."
      ],
      "metadata": {
        "id": "qFTBVneDvPNt"
      }
    },
    {
      "cell_type": "code",
      "execution_count": 1,
      "metadata": {
        "colab": {
          "base_uri": "https://localhost:8080/"
        },
        "id": "2MBeJbQ1u1XY",
        "outputId": "686ac71a-a642-4224-a7b4-5ed07d294e0c"
      },
      "outputs": [
        {
          "output_type": "stream",
          "name": "stdout",
          "text": [
            "1\n",
            "2\n",
            "3\n",
            "4\n",
            "5\n",
            "6\n",
            "7\n",
            "8\n",
            "9\n",
            "10\n"
          ]
        }
      ],
      "source": [
        "for i in range(1,11):\n",
        "  print(i)"
      ]
    },
    {
      "cell_type": "markdown",
      "source": [
        "2. Write a Python program to print the first 5 elements of the Fibonacci series using a while loop."
      ],
      "metadata": {
        "id": "dmfMBNrtvdtB"
      }
    },
    {
      "cell_type": "code",
      "source": [
        "n1,n2 = 0,1\n",
        "count = 0\n",
        "while count < 5:\n",
        "  print(n1)\n",
        "  nth = n1+n2\n",
        "  n1 = n2\n",
        "  n2 = nth\n",
        "  count += 1"
      ],
      "metadata": {
        "colab": {
          "base_uri": "https://localhost:8080/"
        },
        "id": "_dxjEehjvgrx",
        "outputId": "562a3fbc-5837-46fd-8c96-1847589a41ab"
      },
      "execution_count": 2,
      "outputs": [
        {
          "output_type": "stream",
          "name": "stdout",
          "text": [
            "0\n",
            "1\n",
            "1\n",
            "2\n",
            "3\n"
          ]
        }
      ]
    },
    {
      "cell_type": "markdown",
      "source": [
        "3. Write a Python program to find the sum of the first 10 natural numbers using a for loop."
      ],
      "metadata": {
        "id": "yPlWjKHavgQo"
      }
    },
    {
      "cell_type": "code",
      "source": [
        "sum = 0\n",
        "for i in range(1,11):\n",
        "  sum += i\n",
        "print(\"Sum is\",sum)"
      ],
      "metadata": {
        "colab": {
          "base_uri": "https://localhost:8080/"
        },
        "id": "5UXr6yomwXIm",
        "outputId": "aa350d90-e6cd-4b25-beb7-bfcecca22686"
      },
      "execution_count": 3,
      "outputs": [
        {
          "output_type": "stream",
          "name": "stdout",
          "text": [
            "Sum is 55\n"
          ]
        }
      ]
    },
    {
      "cell_type": "markdown",
      "source": [
        "4. Write a Python program to print the multiplication table of 5 using a for loop."
      ],
      "metadata": {
        "id": "lUvcPncMwhVI"
      }
    },
    {
      "cell_type": "code",
      "source": [
        "for i in range(1,11):\n",
        "  print(\"5 x\",i,\"=\",5*i)"
      ],
      "metadata": {
        "colab": {
          "base_uri": "https://localhost:8080/"
        },
        "id": "JVUj_4LNwjbc",
        "outputId": "c2e82aa8-b39a-4c18-917a-35611eebf718"
      },
      "execution_count": 4,
      "outputs": [
        {
          "output_type": "stream",
          "name": "stdout",
          "text": [
            "5 x 1 = 5\n",
            "5 x 2 = 10\n",
            "5 x 3 = 15\n",
            "5 x 4 = 20\n",
            "5 x 5 = 25\n",
            "5 x 6 = 30\n",
            "5 x 7 = 35\n",
            "5 x 8 = 40\n",
            "5 x 9 = 45\n",
            "5 x 10 = 50\n"
          ]
        }
      ]
    },
    {
      "cell_type": "markdown",
      "source": [
        "5. Write a Python program to count the number of even and odd numbers in a list using a for loop."
      ],
      "metadata": {
        "id": "0KVrFi81wvGZ"
      }
    },
    {
      "cell_type": "code",
      "source": [
        "user_input = list(map(int, input(\"Enter numbers separated by spaces: \").split()))\n",
        "\n",
        "numbers = []\n",
        "for str_num in str_numbers:\n",
        "    numbers.append(int(str_num))\n",
        "\n",
        "even_count = 0\n",
        "odd_count = 0\n",
        "\n",
        "for num in numbers:\n",
        "    if num % 2 == 0:\n",
        "        even_count += 1\n",
        "    else:\n",
        "        odd_count += 1\n",
        "print(\"Number of even numbers:\", even_count)\n",
        "print(\"Number of odd numbers:\", odd_count)\n"
      ],
      "metadata": {
        "colab": {
          "base_uri": "https://localhost:8080/"
        },
        "id": "HBujMUDewxfO",
        "outputId": "d6d1275a-095a-4879-8c0b-660dae82d314"
      },
      "execution_count": 7,
      "outputs": [
        {
          "output_type": "stream",
          "name": "stdout",
          "text": [
            "Enter numbers separated by spaces: 10 58 96 66 47 52 0\n",
            "Number of even numbers: 6\n",
            "Number of odd numbers: 2\n"
          ]
        }
      ]
    },
    {
      "cell_type": "markdown",
      "source": [
        "6. Write a Python program to print all the elements in a list using a for loop."
      ],
      "metadata": {
        "id": "LjwMPrw8xwke"
      }
    },
    {
      "cell_type": "code",
      "source": [
        "elements = list(map(int,input(\"Enter numbers separated by spaces: \").split()))\n",
        "for i in elements:\n",
        "  print(i)"
      ],
      "metadata": {
        "colab": {
          "base_uri": "https://localhost:8080/"
        },
        "id": "42z2CObUxyqa",
        "outputId": "00b881d4-66cf-452c-f412-533d9949fae8"
      },
      "execution_count": 2,
      "outputs": [
        {
          "output_type": "stream",
          "name": "stdout",
          "text": [
            "Enter numbers separated by spaces: 45 89 52 01 68\n",
            "45\n",
            "89\n",
            "52\n",
            "1\n",
            "68\n"
          ]
        }
      ]
    },
    {
      "cell_type": "markdown",
      "source": [
        "7. Write a Python program to print all the characters in a string using a for loop."
      ],
      "metadata": {
        "id": "9DMwXbBkyGfF"
      }
    },
    {
      "cell_type": "code",
      "source": [
        "String1 = input(\"Enter a string: \")\n",
        "for char in String1:\n",
        "  print(char)"
      ],
      "metadata": {
        "colab": {
          "base_uri": "https://localhost:8080/"
        },
        "id": "4kywJiTjyJpI",
        "outputId": "dcbe0db4-fb86-48b0-e56c-df443f1bccfa"
      },
      "execution_count": 3,
      "outputs": [
        {
          "output_type": "stream",
          "name": "stdout",
          "text": [
            "Enter a string: Emergio Games\n",
            "E\n",
            "m\n",
            "e\n",
            "r\n",
            "g\n",
            "i\n",
            "o\n",
            " \n",
            "G\n",
            "a\n",
            "m\n",
            "e\n",
            "s\n"
          ]
        }
      ]
    },
    {
      "cell_type": "markdown",
      "source": [
        "8. Write a Python program to calculate the factorial of a number using a while loop."
      ],
      "metadata": {
        "id": "2BjYHOV_y6tQ"
      }
    },
    {
      "cell_type": "code",
      "source": [
        "number = int(input(\"Enter a number to calculate its factorial: \"))\n",
        "factorial = 1\n",
        "\n",
        "i = number\n",
        "\n",
        "while i > 0:\n",
        "    factorial *= i\n",
        "    i -= 1\n",
        "\n",
        "print(f\"The factorial of {number} is {factorial}.\")\n"
      ],
      "metadata": {
        "colab": {
          "base_uri": "https://localhost:8080/"
        },
        "id": "m7qp8f8Dy820",
        "outputId": "34031b15-6038-4c96-8ea0-d9c98979a5e6"
      },
      "execution_count": 4,
      "outputs": [
        {
          "output_type": "stream",
          "name": "stdout",
          "text": [
            "Enter a number to calculate its factorial: 9\n",
            "The factorial of 9 is 362880.\n"
          ]
        }
      ]
    },
    {
      "cell_type": "markdown",
      "source": [
        "9. Write a Python program to find the maximum element in a list using a for loop"
      ],
      "metadata": {
        "id": "9zShqzDVzZs5"
      }
    },
    {
      "cell_type": "code",
      "source": [
        "numbers = list(map(int, input(\"Enter numbers separated by spaces: \").split()))\n",
        "max_element = numbers[0]\n",
        "\n",
        "for num in numbers:\n",
        "    if num > max_element:\n",
        "        max_element = num\n",
        "\n",
        "print(\"The maximum element in the list is:\", max_element)"
      ],
      "metadata": {
        "colab": {
          "base_uri": "https://localhost:8080/"
        },
        "id": "MqaQd2dUzdEF",
        "outputId": "af9eb4f7-e6e5-4577-a6ad-9612679e7a4c"
      },
      "execution_count": 5,
      "outputs": [
        {
          "output_type": "stream",
          "name": "stdout",
          "text": [
            "Enter numbers separated by spaces: 10 89 256 452 47 44 1\n",
            "The maximum element in the list is: 452\n"
          ]
        }
      ]
    },
    {
      "cell_type": "markdown",
      "source": [
        "10. Write a Python program to reverse a string using a for loop."
      ],
      "metadata": {
        "id": "8OCQo9kIz6Yh"
      }
    },
    {
      "cell_type": "code",
      "source": [
        "String = input(\"Enter a string to reverse: \")\n",
        "reversed_string = \"\"\n",
        "\n",
        "\n",
        "for char in String:\n",
        "    reversed_string = char + reversed_string\n",
        "print(\"The reversed string is:\", reversed_string)\n"
      ],
      "metadata": {
        "colab": {
          "base_uri": "https://localhost:8080/"
        },
        "id": "F0WZB7xiz9Jg",
        "outputId": "e63cb89d-c33f-4db8-c3a1-f233a658323f"
      },
      "execution_count": 6,
      "outputs": [
        {
          "output_type": "stream",
          "name": "stdout",
          "text": [
            "Enter a string to reverse: Data Scientist\n",
            "The reversed string is: tsitneicS ataD\n"
          ]
        }
      ]
    },
    {
      "cell_type": "markdown",
      "source": [
        "11. Write a Python program to print all the numbers from 1 to 100 that are divisible by 5 using a for loop."
      ],
      "metadata": {
        "id": "KvwRfQkB0822"
      }
    },
    {
      "cell_type": "code",
      "source": [
        "for i in range(1,101):\n",
        "  if i%5==0:\n",
        "    print(i)"
      ],
      "metadata": {
        "colab": {
          "base_uri": "https://localhost:8080/"
        },
        "id": "52BJnG8H0_Rc",
        "outputId": "75b3d84f-259b-40b4-b9ae-f2df016e18c5"
      },
      "execution_count": 7,
      "outputs": [
        {
          "output_type": "stream",
          "name": "stdout",
          "text": [
            "5\n",
            "10\n",
            "15\n",
            "20\n",
            "25\n",
            "30\n",
            "35\n",
            "40\n",
            "45\n",
            "50\n",
            "55\n",
            "60\n",
            "65\n",
            "70\n",
            "75\n",
            "80\n",
            "85\n",
            "90\n",
            "95\n",
            "100\n"
          ]
        }
      ]
    },
    {
      "cell_type": "markdown",
      "source": [
        "12. Write a Python program to calculate the sum of all numbers in a list using a for loop."
      ],
      "metadata": {
        "id": "EdsgYfyQ1LgU"
      }
    },
    {
      "cell_type": "code",
      "source": [
        "numbers = list(map(int, input(\"Enter numbers separated by spaces: \").split()))\n",
        "sum = 0\n",
        "\n",
        "for num in numbers:\n",
        "    sum += num\n",
        "\n",
        "print(\"The sum of all numbers in the list is:\", sum)"
      ],
      "metadata": {
        "colab": {
          "base_uri": "https://localhost:8080/"
        },
        "id": "QVIYt0p61NpJ",
        "outputId": "0ad038ba-9a72-4964-f615-fb97977189c8"
      },
      "execution_count": 8,
      "outputs": [
        {
          "output_type": "stream",
          "name": "stdout",
          "text": [
            "Enter numbers separated by spaces: 14 85 66 22 48 22\n",
            "The sum of all numbers in the list is: 257\n"
          ]
        }
      ]
    },
    {
      "cell_type": "markdown",
      "source": [
        "13. Write a Python program to find the smallest element in a list using a for loop."
      ],
      "metadata": {
        "id": "ISwr7rzI1aFX"
      }
    },
    {
      "cell_type": "code",
      "source": [
        "numbers = list(map(int, input(\"Enter numbers separated by spaces: \").split()))\n",
        "min_element = numbers[0]\n",
        "\n",
        "for num in numbers:\n",
        "    if num < min_element:\n",
        "        min_element = num\n",
        "\n",
        "print(\"The maximum element in the list is:\", min_element)"
      ],
      "metadata": {
        "colab": {
          "base_uri": "https://localhost:8080/"
        },
        "id": "CqIH9jFy1b7x",
        "outputId": "18e04b84-6882-4dca-8942-d8f20ccd26f0"
      },
      "execution_count": 9,
      "outputs": [
        {
          "output_type": "stream",
          "name": "stdout",
          "text": [
            "Enter numbers separated by spaces: 14 56 55 5 2 11 789\n",
            "The maximum element in the list is: 2\n"
          ]
        }
      ]
    },
    {
      "cell_type": "markdown",
      "source": [
        "14. Write a Python program to print numbers from 10 to 1 using a while loop."
      ],
      "metadata": {
        "id": "vb2GXHKf1r-H"
      }
    },
    {
      "cell_type": "code",
      "source": [
        "number = 10\n",
        "\n",
        "while number >= 1:\n",
        "    print(number)\n",
        "    number -= 1\n"
      ],
      "metadata": {
        "colab": {
          "base_uri": "https://localhost:8080/"
        },
        "id": "pPdzGQbX1xHx",
        "outputId": "4b864305-ec72-43d0-da5d-00a080617089"
      },
      "execution_count": 10,
      "outputs": [
        {
          "output_type": "stream",
          "name": "stdout",
          "text": [
            "10\n",
            "9\n",
            "8\n",
            "7\n",
            "6\n",
            "5\n",
            "4\n",
            "3\n",
            "2\n",
            "1\n"
          ]
        }
      ]
    },
    {
      "cell_type": "markdown",
      "source": [
        "15. Write a Python program to print the first 10 positive integers using a while loop."
      ],
      "metadata": {
        "id": "BDhqSLUz2rnR"
      }
    },
    {
      "cell_type": "code",
      "source": [
        "num = 1\n",
        "while num <= 10:\n",
        "  print(num)\n",
        "  num += 1"
      ],
      "metadata": {
        "colab": {
          "base_uri": "https://localhost:8080/"
        },
        "id": "4jfi8Z9Z2waE",
        "outputId": "6bd696ab-a2a3-46d3-f7cc-d459bce9ad97"
      },
      "execution_count": 11,
      "outputs": [
        {
          "output_type": "stream",
          "name": "stdout",
          "text": [
            "1\n",
            "2\n",
            "3\n",
            "4\n",
            "5\n",
            "6\n",
            "7\n",
            "8\n",
            "9\n",
            "10\n"
          ]
        }
      ]
    },
    {
      "cell_type": "markdown",
      "source": [
        "16. Write a Python program to print all the elements in a tuple using a for loop."
      ],
      "metadata": {
        "id": "T5xuAOiy22K5"
      }
    },
    {
      "cell_type": "code",
      "source": [
        "elements = tuple(input(\"Enter elements separated by spaces: \").split())\n",
        "\n",
        "for i in elements:\n",
        "  print(i)"
      ],
      "metadata": {
        "colab": {
          "base_uri": "https://localhost:8080/"
        },
        "id": "1N4qdvpV260F",
        "outputId": "bccb2fa6-ed2c-4e4f-edc8-9ae768d33e19"
      },
      "execution_count": 12,
      "outputs": [
        {
          "output_type": "stream",
          "name": "stdout",
          "text": [
            "Enter elements separated by spaces: 14 python sql 47 games\n",
            "14\n",
            "python\n",
            "sql\n",
            "47\n",
            "games\n"
          ]
        }
      ]
    },
    {
      "cell_type": "markdown",
      "source": [
        "17. Write a Python program to find the length of a list using a while loop."
      ],
      "metadata": {
        "id": "tkY8Um8G3zkx"
      }
    },
    {
      "cell_type": "code",
      "source": [
        "input_user = input(\"Enter elements of the list separated by spaces: \")\n",
        "my_list = input_user.split()\n",
        "length = 0\n",
        "\n",
        "while length < len(my_list):\n",
        "    length += 1\n",
        "print(\"The length of the list is:\", length)\n"
      ],
      "metadata": {
        "colab": {
          "base_uri": "https://localhost:8080/"
        },
        "id": "0AwvGgHZ32ui",
        "outputId": "06baf0a6-0d38-4294-a22c-bb234eed6c89"
      },
      "execution_count": 13,
      "outputs": [
        {
          "output_type": "stream",
          "name": "stdout",
          "text": [
            "Enter elements of the list separated by spaces: java sql python html R \n",
            "The length of the list is: 5\n"
          ]
        }
      ]
    },
    {
      "cell_type": "markdown",
      "source": [
        "18. Write a Python program to print all the vowels in a string using a for loop."
      ],
      "metadata": {
        "id": "oSCJJ24N4zF4"
      }
    },
    {
      "cell_type": "code",
      "source": [
        "String = input(\"Enter a string: \")\n",
        "vowels = \"aeiouAEIOU\"\n",
        "\n",
        "for char in String:\n",
        "    if char in vowels:\n",
        "        print(char)\n"
      ],
      "metadata": {
        "colab": {
          "base_uri": "https://localhost:8080/"
        },
        "id": "eBZ3Uz_R44IT",
        "outputId": "13e18bd8-7a2a-4812-bc4b-421e29c79b3d"
      },
      "execution_count": 14,
      "outputs": [
        {
          "output_type": "stream",
          "name": "stdout",
          "text": [
            "Enter a string: Emergio Games\n",
            "E\n",
            "e\n",
            "i\n",
            "o\n",
            "a\n",
            "e\n"
          ]
        }
      ]
    },
    {
      "cell_type": "markdown",
      "source": [
        "19. Write a Python program to count the number of digits in a number using a while loop."
      ],
      "metadata": {
        "id": "rv9njzDn-mOU"
      }
    },
    {
      "cell_type": "code",
      "source": [
        "number = int(input(\"Enter the number\" ))\n",
        "count = 0\n",
        "\n",
        "while number > 0:\n",
        "    number //= 10\n",
        "    count += 1\n",
        "\n",
        "print(\"Number of digits:\", count)"
      ],
      "metadata": {
        "colab": {
          "base_uri": "https://localhost:8080/"
        },
        "id": "Q3escG6f-pls",
        "outputId": "cfc685bc-c3db-4a92-9dc0-813a8460e6e8"
      },
      "execution_count": 17,
      "outputs": [
        {
          "output_type": "stream",
          "name": "stdout",
          "text": [
            "Enter the number45889\n",
            "Number of digits: 5\n"
          ]
        }
      ]
    },
    {
      "cell_type": "markdown",
      "source": [
        "20. Write a Python program to print the square of all numbers from 1 to 10 using a for loop."
      ],
      "metadata": {
        "id": "TtQxOY_b-8at"
      }
    },
    {
      "cell_type": "code",
      "source": [
        "for i in range(1,11):\n",
        "  print(\"Square of\",i,\"is\",i**2)"
      ],
      "metadata": {
        "colab": {
          "base_uri": "https://localhost:8080/"
        },
        "id": "aZl4PTdb_Dki",
        "outputId": "64380a1e-d566-44f3-b826-1a41d59b2953"
      },
      "execution_count": 16,
      "outputs": [
        {
          "output_type": "stream",
          "name": "stdout",
          "text": [
            "Square of 1 is 1\n",
            "Square of 2 is 4\n",
            "Square of 3 is 9\n",
            "Square of 4 is 16\n",
            "Square of 5 is 25\n",
            "Square of 6 is 36\n",
            "Square of 7 is 49\n",
            "Square of 8 is 64\n",
            "Square of 9 is 81\n",
            "Square of 10 is 100\n"
          ]
        }
      ]
    },
    {
      "cell_type": "markdown",
      "source": [
        "21. Write a Python program to find the sum of digits of a given number using a while loop."
      ],
      "metadata": {
        "id": "mMC7sFEe_Hxc"
      }
    },
    {
      "cell_type": "code",
      "source": [
        "number = int(input(\"Enter the number\"))\n",
        "sum_of_digits = 0\n",
        "\n",
        "while number > 0:\n",
        "    digit = number % 10\n",
        "    sum_of_digits += digit\n",
        "    number //= 10\n",
        "\n",
        "print(\"Sum of digits:\", sum_of_digits)"
      ],
      "metadata": {
        "colab": {
          "base_uri": "https://localhost:8080/"
        },
        "id": "P2I9AH9c_JhO",
        "outputId": "92ec615e-e8b9-422f-fb4e-50e19db2f655"
      },
      "execution_count": 18,
      "outputs": [
        {
          "output_type": "stream",
          "name": "stdout",
          "text": [
            "Enter the number589\n",
            "Sum of digits: 22\n"
          ]
        }
      ]
    },
    {
      "cell_type": "markdown",
      "source": [
        "22. Write a Python program to find all prime numbers between 1 and 50 using a for loop."
      ],
      "metadata": {
        "id": "hvjCZTjP_813"
      }
    },
    {
      "cell_type": "code",
      "source": [
        "print(\"Prime numbers between 1 and 50:\")\n",
        "for num in range(1, 51):\n",
        "  if num <= 1:\n",
        "    continue\n",
        "  if num <= 3:\n",
        "    print(num)\n",
        "    continue\n",
        "  if num % 2 == 0 or num % 3 == 0:\n",
        "    continue\n",
        "  i = 5\n",
        "  while i * i <= num:\n",
        "    if num % i == 0 or num % (i + 2) == 0:\n",
        "      break\n",
        "    i += 6\n",
        "  else:\n",
        "    print(num)"
      ],
      "metadata": {
        "colab": {
          "base_uri": "https://localhost:8080/"
        },
        "id": "pVJAT7VA__Pl",
        "outputId": "495cc632-d09a-414f-e8d4-3976a0ab11fb"
      },
      "execution_count": 19,
      "outputs": [
        {
          "output_type": "stream",
          "name": "stdout",
          "text": [
            "Prime numbers between 1 and 50:\n",
            "2\n",
            "3\n",
            "5\n",
            "7\n",
            "11\n",
            "13\n",
            "17\n",
            "19\n",
            "23\n",
            "29\n",
            "31\n",
            "37\n",
            "41\n",
            "43\n",
            "47\n"
          ]
        }
      ]
    },
    {
      "cell_type": "markdown",
      "source": [
        "23. Write a Python program to print the Fibonacci series up to 100 using a while loop."
      ],
      "metadata": {
        "id": "DqDdTnhPARPL"
      }
    },
    {
      "cell_type": "code",
      "source": [
        "a, b = 0, 1\n",
        "print(\"Fibonacci series up to 100:\")\n",
        "\n",
        "while a <= 100:\n",
        "    print(a, end=' ')\n",
        "    a, b = b, a + b\n"
      ],
      "metadata": {
        "colab": {
          "base_uri": "https://localhost:8080/"
        },
        "id": "c7pIxMVzAggm",
        "outputId": "9f2f590a-a03f-4302-ba79-21c49dc7ecb5"
      },
      "execution_count": 22,
      "outputs": [
        {
          "output_type": "stream",
          "name": "stdout",
          "text": [
            "Fibonacci series up to 100:\n",
            "0 1 1 2 3 5 8 13 21 34 55 89 "
          ]
        }
      ]
    },
    {
      "cell_type": "markdown",
      "source": [
        "24. Write a Python program to print the first n elements of the Fibonacci series using a for loop, where n is provided by the user"
      ],
      "metadata": {
        "id": "ssIbWvAOA7Fc"
      }
    },
    {
      "cell_type": "code",
      "source": [
        "n = int(input(\"Enter the number of elements in the Fibonacci series: \"))\n",
        "a, b = 0, 1\n",
        "\n",
        "\n",
        "print(\"Fibonacci series up to\", n, \"elements:\")\n",
        "\n",
        "for i in range(n):\n",
        "    print(a, end=' ')\n",
        "    a, b = b, a + b\n"
      ],
      "metadata": {
        "colab": {
          "base_uri": "https://localhost:8080/"
        },
        "id": "7OCAtEuZA9Cy",
        "outputId": "5386c55f-0e44-454c-8a87-fb85a183f7d6"
      },
      "execution_count": 24,
      "outputs": [
        {
          "output_type": "stream",
          "name": "stdout",
          "text": [
            "Enter the number of elements in the Fibonacci series: 25\n",
            "Fibonacci series up to 25 elements:\n",
            "0 1 1 2 3 5 8 13 21 34 55 89 144 233 377 610 987 1597 2584 4181 6765 10946 17711 28657 46368 "
          ]
        }
      ]
    },
    {
      "cell_type": "markdown",
      "source": [
        "25. Write a Python program to print all the elements of a list in reverse order using a while loop."
      ],
      "metadata": {
        "id": "xBrh6Bm_BMyk"
      }
    },
    {
      "cell_type": "code",
      "source": [
        "user_input = input(\"Enter the elements of the list separated by spaces: \")\n",
        "my_list = user_input.split()\n",
        "index = len(my_list) - 1\n",
        "\n",
        "\n",
        "print(\"Elements of the list in reverse order:\")\n",
        "\n",
        "while index >= 0:\n",
        "    print(my_list[index])\n",
        "    index -= 1\n"
      ],
      "metadata": {
        "colab": {
          "base_uri": "https://localhost:8080/"
        },
        "id": "dudvghDlBSjm",
        "outputId": "66ad6b62-8de5-4fff-c723-7063974efe72"
      },
      "execution_count": 25,
      "outputs": [
        {
          "output_type": "stream",
          "name": "stdout",
          "text": [
            "Enter the elements of the list separated by spaces: 85 69 44 77 551 23\n",
            "Elements of the list in reverse order:\n",
            "23\n",
            "551\n",
            "77\n",
            "44\n",
            "69\n",
            "85\n"
          ]
        }
      ]
    },
    {
      "cell_type": "markdown",
      "source": [
        "26. Write a Python program to find the GCD (Greatest Common Divisor) of two numbers using a while loop."
      ],
      "metadata": {
        "id": "S0skrGU1Bs-j"
      }
    },
    {
      "cell_type": "code",
      "source": [
        "num1 = int(input(\"Enter the first number: \"))\n",
        "num2 = int(input(\"Enter the second number: \"))\n",
        "a, b = num1, num2\n",
        "\n",
        "\n",
        "while b != 0:\n",
        "    a, b = b, a % b\n",
        "\n",
        "\n",
        "print(\"The GCD of\", num1, \"and\", num2, \"is:\", a)\n"
      ],
      "metadata": {
        "colab": {
          "base_uri": "https://localhost:8080/"
        },
        "id": "TLY4SvREBvD2",
        "outputId": "c11c73df-b26d-415b-cbbc-b20f19e9fb99"
      },
      "execution_count": 26,
      "outputs": [
        {
          "output_type": "stream",
          "name": "stdout",
          "text": [
            "Enter the first number: 56\n",
            "Enter the second number: 20\n",
            "The GCD of 56 and 20 is: 4\n"
          ]
        }
      ]
    },
    {
      "cell_type": "markdown",
      "source": [
        "27. Write a Python program to print all prime numbers between 1 and 100 using a for loop."
      ],
      "metadata": {
        "id": "HHb-wB6MB_uV"
      }
    },
    {
      "cell_type": "code",
      "source": [
        "for num in range(2, 101):\n",
        "    is_prime = True\n",
        "    for i in range(2, int(num**0.5) + 1):\n",
        "        if num % i == 0:\n",
        "            is_prime = False\n",
        "            break\n",
        "    if is_prime:\n",
        "        print(num)\n"
      ],
      "metadata": {
        "colab": {
          "base_uri": "https://localhost:8080/"
        },
        "id": "_RchMqt8CEXC",
        "outputId": "c832c55f-12bf-473b-83e1-4663aba0ad70"
      },
      "execution_count": 27,
      "outputs": [
        {
          "output_type": "stream",
          "name": "stdout",
          "text": [
            "2\n",
            "3\n",
            "5\n",
            "7\n",
            "11\n",
            "13\n",
            "17\n",
            "19\n",
            "23\n",
            "29\n",
            "31\n",
            "37\n",
            "41\n",
            "43\n",
            "47\n",
            "53\n",
            "59\n",
            "61\n",
            "67\n",
            "71\n",
            "73\n",
            "79\n",
            "83\n",
            "89\n",
            "97\n"
          ]
        }
      ]
    },
    {
      "cell_type": "markdown",
      "source": [
        "28. Write a Python program to calculate the sum of the digits of a number until a single digit is obtained using a while loop."
      ],
      "metadata": {
        "id": "TYQMf97CCIhr"
      }
    },
    {
      "cell_type": "code",
      "source": [
        "number = int(input(\"Enter a number: \"))\n",
        "\n",
        "while number >= 10:\n",
        "    sum_of_digits = 0\n",
        "    temp = number\n",
        "    while temp > 0:\n",
        "        sum_of_digits += temp % 10\n",
        "        temp //= 10\n",
        "    number = sum_of_digits\n",
        "print(\"The single digit obtained is:\", number)\n"
      ],
      "metadata": {
        "colab": {
          "base_uri": "https://localhost:8080/"
        },
        "id": "XZv6U-JCCLSE",
        "outputId": "6a101513-2c94-4444-d19e-afda75941851"
      },
      "execution_count": 30,
      "outputs": [
        {
          "output_type": "stream",
          "name": "stdout",
          "text": [
            "Enter a number: 457\n",
            "The single digit obtained is: 7\n"
          ]
        }
      ]
    },
    {
      "cell_type": "markdown",
      "source": [
        "29. Write a Python program to print all the elements of a matrix using nested loops."
      ],
      "metadata": {
        "id": "3CkDH_wMCep7"
      }
    },
    {
      "cell_type": "code",
      "source": [
        "\n",
        "rows = int(input(\"Enter the number of rows: \"))\n",
        "cols = int(input(\"Enter the number of columns: \"))\n",
        "matrix = []\n",
        "\n",
        "\n",
        "print(\"Enter the elements of the matrix:\")\n",
        "for i in range(rows):\n",
        "    row = []\n",
        "    for j in range(cols):\n",
        "        element = int(input(f\"Enter element [{i+1}, {j+1}]: \"))\n",
        "        row.append(element)\n",
        "    matrix.append(row)\n",
        "6\n",
        "print(\"Matrix elements:\")\n",
        "for row in matrix:\n",
        "    for element in row:\n",
        "        print(element, end=' ')\n",
        "    print()\n"
      ],
      "metadata": {
        "colab": {
          "base_uri": "https://localhost:8080/"
        },
        "id": "dyfFpS9fCgzG",
        "outputId": "13b2cba4-5e0c-4fce-b851-9dcfa820f180"
      },
      "execution_count": 31,
      "outputs": [
        {
          "output_type": "stream",
          "name": "stdout",
          "text": [
            "Enter the number of rows: 3\n",
            "Enter the number of columns: 3\n",
            "Enter the elements of the matrix:\n",
            "Enter element [1, 1]: 5\n",
            "Enter element [1, 2]: 6\n",
            "Enter element [1, 3]: 5\n",
            "Enter element [2, 1]: 5\n",
            "Enter element [2, 2]: 5\n",
            "Enter element [2, 3]: 4\n",
            "Enter element [3, 1]: 7\n",
            "Enter element [3, 2]: 10\n",
            "Enter element [3, 3]: 13\n",
            "Matrix elements:\n",
            "5 6 5 \n",
            "5 5 4 \n",
            "7 10 13 \n"
          ]
        }
      ]
    },
    {
      "cell_type": "markdown",
      "source": [
        "30. Write a Python program to transpose a matrix using nested loops."
      ],
      "metadata": {
        "id": "N_illinuC1cE"
      }
    },
    {
      "cell_type": "code",
      "source": [
        "rows = int(input(\"Enter the number of rows: \"))\n",
        "cols = int(input(\"Enter the number of columns: \"))\n",
        "\n",
        "\n",
        "matrix = []\n",
        "\n",
        "\n",
        "print(\"Enter the elements of the matrix:\")\n",
        "for i in range(rows):\n",
        "    row = []\n",
        "    for j in range(cols):\n",
        "        element = int(input(f\"Enter element [{i+1}, {j+1}]: \"))\n",
        "        row.append(element)\n",
        "    matrix.append(row)\n",
        "\n",
        "transpose = [[0]*rows for _ in range(cols)]\n",
        "\n",
        "\n",
        "for i in range(rows):\n",
        "    for j in range(cols):\n",
        "        transpose[j][i] = matrix[i][j]\n",
        "print(\"Transposed matrix:\")\n",
        "for row in transpose:\n",
        "    for element in row:\n",
        "        print(element, end=' ')\n",
        "    print()\n"
      ],
      "metadata": {
        "colab": {
          "base_uri": "https://localhost:8080/"
        },
        "id": "ol343kBxC9iT",
        "outputId": "04b5ae48-b026-403a-c686-6a9278851f02"
      },
      "execution_count": 32,
      "outputs": [
        {
          "output_type": "stream",
          "name": "stdout",
          "text": [
            "Enter the number of rows: 3\n",
            "Enter the number of columns: 2\n",
            "Enter the elements of the matrix:\n",
            "Enter element [1, 1]: 5\n",
            "Enter element [1, 2]: 85\n",
            "Enter element [2, 1]: 12\n",
            "Enter element [2, 2]: 9\n",
            "Enter element [3, 1]: 10\n",
            "Enter element [3, 2]: 78\n",
            "Transposed matrix:\n",
            "5 12 10 \n",
            "85 9 78 \n"
          ]
        }
      ]
    },
    {
      "cell_type": "markdown",
      "source": [
        "31. Write a Python program to check if a number is an Armstrong number using a for loop."
      ],
      "metadata": {
        "id": "GIkykynUDPxW"
      }
    },
    {
      "cell_type": "code",
      "source": [
        "number = int(input(\"Enter a number: \"))\n",
        "\n",
        "num_str = str(number)\n",
        "num_digits = len(num_str)\n",
        "\n",
        "sum_of_powers = 0\n",
        "for digit in num_str:\n",
        "    sum_of_powers += int(digit) ** num_digits\n",
        "\n",
        "if sum_of_powers == number:\n",
        "    print(f\"{number} is an Armstrong number.\")\n",
        "else:\n",
        "    print(f\"{number} is not an Armstrong number.\")\n"
      ],
      "metadata": {
        "colab": {
          "base_uri": "https://localhost:8080/"
        },
        "id": "DNF4BtiFDSFh",
        "outputId": "f972036f-9c9f-48c3-e4cf-42982a2095cb"
      },
      "execution_count": 33,
      "outputs": [
        {
          "output_type": "stream",
          "name": "stdout",
          "text": [
            "Enter a number: 158\n",
            "158 is not an Armstrong number.\n"
          ]
        }
      ]
    },
    {
      "cell_type": "markdown",
      "source": [
        "32. Write a Python program to find the LCM (Least Common Multiple) of two numbers using a while loop."
      ],
      "metadata": {
        "id": "GLtobFR_Dbly"
      }
    },
    {
      "cell_type": "code",
      "source": [
        "num1 = int(input(\"Enter the first number: \"))\n",
        "num2 = int(input(\"Enter the second number: \"))\n",
        "a, b = num1, num2\n",
        "\n",
        "\n",
        "while b != 0:\n",
        "    a, b = b, a % b\n",
        "\n",
        "\n",
        "gcd = a\n",
        "lcm = abs(num1 * num2) // gcd\n",
        "\n",
        "print(\"The LCM of\", num1, \"and\", num2, \"is:\", lcm)\n"
      ],
      "metadata": {
        "colab": {
          "base_uri": "https://localhost:8080/"
        },
        "id": "r6B7mpy-Ddyf",
        "outputId": "46cff2df-492b-44d4-840c-971aeccc7098"
      },
      "execution_count": 34,
      "outputs": [
        {
          "output_type": "stream",
          "name": "stdout",
          "text": [
            "Enter the first number: 45\n",
            "Enter the second number: 32\n",
            "The LCM of 45 and 32 is: 1440\n"
          ]
        }
      ]
    },
    {
      "cell_type": "markdown",
      "source": [
        "33. Write a Python program to generate all possible permutations of a string using a for loop."
      ],
      "metadata": {
        "id": "oe8ZzWzrE3Fr"
      }
    },
    {
      "cell_type": "code",
      "source": [
        "from itertools import permutations\n",
        "string = input(\"Enter a string: \")\n",
        "\n",
        "perm = permutations(string)\n",
        "for p in perm:\n",
        "    print(''.join(p))\n"
      ],
      "metadata": {
        "colab": {
          "base_uri": "https://localhost:8080/"
        },
        "id": "RkaHOkv7E5cU",
        "outputId": "76642fbd-f555-48a6-a8ea-4b8f20306d4c"
      },
      "execution_count": 35,
      "outputs": [
        {
          "output_type": "stream",
          "name": "stdout",
          "text": [
            "Enter a string: abc\n",
            "abc\n",
            "acb\n",
            "bac\n",
            "bca\n",
            "cab\n",
            "cba\n"
          ]
        }
      ]
    },
    {
      "cell_type": "markdown",
      "source": [
        "34. Write a Python program to print a pattern of stars in a pyramid shape using nested loops."
      ],
      "metadata": {
        "id": "e_bomP15FgTs"
      }
    },
    {
      "cell_type": "code",
      "source": [
        "rows = int(input(\"Enter the number of rows for the pyramid: \"))\n",
        "\n",
        "for i in range(rows):\n",
        "    for j in range(rows - i - 1):\n",
        "        print(' ', end='')\n",
        "    for k in range(2 * i + 1):\n",
        "        print('*', end='')\n",
        "    print()\n"
      ],
      "metadata": {
        "colab": {
          "base_uri": "https://localhost:8080/"
        },
        "id": "TyklC-hNFiP9",
        "outputId": "af889324-0c43-46ab-83fc-9e89c2343021"
      },
      "execution_count": 36,
      "outputs": [
        {
          "output_type": "stream",
          "name": "stdout",
          "text": [
            "Enter the number of rows for the pyramid: 5\n",
            "    *\n",
            "   ***\n",
            "  *****\n",
            " *******\n",
            "*********\n"
          ]
        }
      ]
    },
    {
      "cell_type": "markdown",
      "source": [
        "35. Write a Python program to implement a basic calculator that performs addition, subtraction, multiplication, and division using a while loop."
      ],
      "metadata": {
        "id": "NhTudqG8Fy4T"
      }
    },
    {
      "cell_type": "code",
      "source": [
        "while True:\n",
        "    print(\"\\nBasic Calculator\")\n",
        "    print(\"1. Addition\")\n",
        "    print(\"2. Subtraction\")\n",
        "    print(\"3. Multiplication\")\n",
        "    print(\"4. Division\")\n",
        "    print(\"5. Exit\")\n",
        "\n",
        "    choice = input(\"Enter your choice (1/2/3/4/5): \")\n",
        "\n",
        "    if choice == '5':\n",
        "        print(\"Exiting the calculator.\")\n",
        "        break\n",
        "\n",
        "    if choice in ['1', '2', '3', '4']:\n",
        "        num1 = float(input(\"Enter the first number: \"))\n",
        "        num2 = float(input(\"Enter the second number: \"))\n",
        "\n",
        "        if choice == '1':\n",
        "            result = num1 + num2\n",
        "            print(f\"The result of addition is: {result}\")\n",
        "        elif choice == '2':\n",
        "            result = num1 - num2\n",
        "            print(f\"The result of subtraction is: {result}\")\n",
        "        elif choice == '3':\n",
        "            result = num1 * num2\n",
        "            print(f\"The result of multiplication is: {result}\")\n",
        "        elif choice == '4':\n",
        "            if num2 != 0:\n",
        "                result = num1 / num2\n",
        "                print(f\"The result of division is: {result}\")\n",
        "            else:\n",
        "                print(\"Error: Division by zero is not allowed.\")\n",
        "    else:\n",
        "        print(\"Invalid choice. Please enter a number between 1 and 5.\")\n"
      ],
      "metadata": {
        "colab": {
          "base_uri": "https://localhost:8080/"
        },
        "id": "Bj9fd6W3F5U6",
        "outputId": "f840caf0-ab81-4550-eedb-65da5e69cb91"
      },
      "execution_count": 37,
      "outputs": [
        {
          "output_type": "stream",
          "name": "stdout",
          "text": [
            "\n",
            "Basic Calculator\n",
            "1. Addition\n",
            "2. Subtraction\n",
            "3. Multiplication\n",
            "4. Division\n",
            "5. Exit\n",
            "Enter your choice (1/2/3/4/5): 3\n",
            "Enter the first number: 45\n",
            "Enter the second number: 6\n",
            "The result of multiplication is: 270.0\n",
            "\n",
            "Basic Calculator\n",
            "1. Addition\n",
            "2. Subtraction\n",
            "3. Multiplication\n",
            "4. Division\n",
            "5. Exit\n",
            "Enter your choice (1/2/3/4/5): 1\n",
            "Enter the first number: 15\n",
            "Enter the second number: 89\n",
            "The result of addition is: 104.0\n",
            "\n",
            "Basic Calculator\n",
            "1. Addition\n",
            "2. Subtraction\n",
            "3. Multiplication\n",
            "4. Division\n",
            "5. Exit\n",
            "Enter your choice (1/2/3/4/5): 5\n",
            "Exiting the calculator.\n"
          ]
        }
      ]
    },
    {
      "cell_type": "markdown",
      "source": [
        "36. Write a Python program to find the second largest element in a list using a for loop."
      ],
      "metadata": {
        "id": "Na2Vv6TaGUwE"
      }
    },
    {
      "cell_type": "code",
      "source": [
        "numbers = list(map(int, input(\"Enter numbers separated by spaces: \").split()))\n",
        "\n",
        "largest = second_largest = float('-inf')\n",
        "\n",
        "for num in numbers:\n",
        "    if num > largest:\n",
        "        second_largest = largest\n",
        "        largest = num\n",
        "    elif num > second_largest and num != largest:\n",
        "        second_largest = num\n",
        "\n",
        "if second_largest == float('-inf'):\n",
        "    print(\"There is no second largest element in the list.\")\n",
        "else:\n",
        "    print(\"The second largest element is:\", second_largest)\n"
      ],
      "metadata": {
        "colab": {
          "base_uri": "https://localhost:8080/"
        },
        "id": "mS9jjFYYGe6X",
        "outputId": "1b68b5b2-1346-4521-ddf0-dcd356e1b8b3"
      },
      "execution_count": 41,
      "outputs": [
        {
          "output_type": "stream",
          "name": "stdout",
          "text": [
            "Enter numbers separated by spaces: 12 85 44 56 25 41 11 10\n",
            "The second largest element is: 56\n"
          ]
        }
      ]
    },
    {
      "cell_type": "markdown",
      "source": [
        "37. Write a Python program to print the Pascal's triangle using nested loops."
      ],
      "metadata": {
        "id": "jguYeEEnG6OV"
      }
    },
    {
      "cell_type": "code",
      "source": [
        "rows = int(input(\"Enter the number of rows for Pascal's Triangle: \"))\n",
        "\n",
        "triangle = []\n",
        "\n",
        "for i in range(rows):\n",
        "    row = [1] * (i + 1)\n",
        "\n",
        "    for j in range(1, i):\n",
        "        row[j] = triangle[i - 1][j - 1] + triangle[i - 1][j]\n",
        "\n",
        "    triangle.append(row)\n",
        "\n",
        "for row in triangle:\n",
        "    print(' '.join(map(str, row)).center(rows * 2))\n"
      ],
      "metadata": {
        "colab": {
          "base_uri": "https://localhost:8080/"
        },
        "id": "rkBZ0Xf9G8t7",
        "outputId": "c771dc22-f91f-4c2e-d950-50c86efb9180"
      },
      "execution_count": 42,
      "outputs": [
        {
          "output_type": "stream",
          "name": "stdout",
          "text": [
            "Enter the number of rows for Pascal's Triangle: 5\n",
            "    1     \n",
            "   1 1    \n",
            "  1 2 1   \n",
            " 1 3 3 1  \n",
            "1 4 6 4 1 \n"
          ]
        }
      ]
    },
    {
      "cell_type": "markdown",
      "source": [
        "38. Write a Python program to sort a list of numbers using bubble sort algorithm with a for loop."
      ],
      "metadata": {
        "id": "ojM76m8KHF1d"
      }
    },
    {
      "cell_type": "code",
      "source": [
        "numbers = list(map(int, input(\"Enter numbers separated by spaces: \").split()))\n",
        "\n",
        "n = len(numbers)\n",
        "for i in range(n):\n",
        "    swapped = False\n",
        "    for j in range(0, n - i - 1):\n",
        "        if numbers[j] > numbers[j + 1]:\n",
        "            numbers[j], numbers[j + 1] = numbers[j + 1], numbers[j]\n",
        "            swapped = True\n",
        "    if not swapped:\n",
        "        break\n",
        "\n",
        "print(\"Sorted list:\", numbers)\n"
      ],
      "metadata": {
        "colab": {
          "base_uri": "https://localhost:8080/"
        },
        "id": "O9gTKMWgHHwh",
        "outputId": "7fb2208d-b518-4a1f-ffbc-27696942b9be"
      },
      "execution_count": 43,
      "outputs": [
        {
          "output_type": "stream",
          "name": "stdout",
          "text": [
            "Enter numbers separated by spaces: 12 55 10 4 56 2 8 744 15 6\n",
            "Sorted list: [2, 4, 6, 8, 10, 12, 15, 55, 56, 744]\n"
          ]
        }
      ]
    },
    {
      "cell_type": "markdown",
      "source": [
        "39. Write a Python program to check if a given string is a palindrome using a while loop."
      ],
      "metadata": {
        "id": "SNt_QP40HR9L"
      }
    },
    {
      "cell_type": "code",
      "source": [
        "string = input(\"Enter a string: \")\n",
        "\n",
        "start = 0\n",
        "end = len(string) - 1\n",
        "\n",
        "while start < end:\n",
        "    if string[start] != string[end]:\n",
        "        print(\"The string is not a palindrome.\")\n",
        "        break\n",
        "    start += 1\n",
        "    end -= 1\n",
        "else:\n",
        "    print(\"The string is a palindrome.\")\n"
      ],
      "metadata": {
        "colab": {
          "base_uri": "https://localhost:8080/"
        },
        "id": "AU2ZWQM2HT6x",
        "outputId": "8a7d37c6-3c78-441e-f461-065eae7fca44"
      },
      "execution_count": 44,
      "outputs": [
        {
          "output_type": "stream",
          "name": "stdout",
          "text": [
            "Enter a string: malayalam\n",
            "The string is a palindrome.\n"
          ]
        }
      ]
    },
    {
      "cell_type": "markdown",
      "source": [
        "40. Write a Python program to implement a number guessing game using a while loop, where the user has to guess the number chosen by the computer."
      ],
      "metadata": {
        "id": "m7Lrr_78Hk-_"
      }
    },
    {
      "cell_type": "code",
      "source": [
        "import random\n",
        "\n",
        "number_to_guess = random.randint(1, 100)\n",
        "guess = None\n",
        "attempts = 0\n",
        "\n",
        "print(\"Guess the number (between 1 and 100):\")\n",
        "\n",
        "while guess != number_to_guess:\n",
        "    try:\n",
        "        guess = int(input(\"Enter your guess: \"))\n",
        "        attempts += 1\n",
        "\n",
        "        if guess < number_to_guess:\n",
        "            print(\"Too low! Try again.\")\n",
        "        elif guess > number_to_guess:\n",
        "            print(\"Too high! Try again.\")\n",
        "        else:\n",
        "            print(f\"Congratulations! You've guessed the number in {attempts} attempts.\")\n",
        "    except ValueError:\n",
        "        print(\"Please enter a valid integer.\")\n"
      ],
      "metadata": {
        "colab": {
          "base_uri": "https://localhost:8080/"
        },
        "id": "MeOuatDDHnow",
        "outputId": "dd00ea1d-e7bf-4dd4-da78-d2d04240a8f4"
      },
      "execution_count": 46,
      "outputs": [
        {
          "output_type": "stream",
          "name": "stdout",
          "text": [
            "Guess the number (between 1 and 100):\n",
            "Enter your guess: 50\n",
            "Too low! Try again.\n",
            "Enter your guess: 75\n",
            "Too low! Try again.\n",
            "Enter your guess: 100\n",
            "Too high! Try again.\n",
            "Enter your guess: 90\n",
            "Too high! Try again.\n",
            "Enter your guess: 80\n",
            "Too high! Try again.\n",
            "Enter your guess: 75\n",
            "Too low! Try again.\n",
            "Enter your guess: 78\n",
            "Too low! Try again.\n",
            "Enter your guess: 79\n",
            "Congratulations! You've guessed the number in 8 attempts.\n"
          ]
        }
      ]
    }
  ]
}