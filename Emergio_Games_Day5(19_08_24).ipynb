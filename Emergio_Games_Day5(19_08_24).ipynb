{
  "nbformat": 4,
  "nbformat_minor": 0,
  "metadata": {
    "colab": {
      "provenance": [],
      "authorship_tag": "ABX9TyNvfxPmH8p6Y8OQ4cB+Il+o",
      "include_colab_link": true
    },
    "kernelspec": {
      "name": "python3",
      "display_name": "Python 3"
    },
    "language_info": {
      "name": "python"
    }
  },
  "cells": [
    {
      "cell_type": "markdown",
      "metadata": {
        "id": "view-in-github",
        "colab_type": "text"
      },
      "source": [
        "<a href=\"https://colab.research.google.com/github/muhammedafsalpm/Emergio_Games_Training/blob/main/Emergio_Games_Day5(19_08_24).ipynb\" target=\"_parent\"><img src=\"https://colab.research.google.com/assets/colab-badge.svg\" alt=\"Open In Colab\"/></a>"
      ]
    },
    {
      "cell_type": "markdown",
      "source": [
        "**Python Case Studies (Day-5 19/08/2024)**"
      ],
      "metadata": {
        "id": "YoP5G-SaM3k_"
      }
    },
    {
      "cell_type": "markdown",
      "source": [
        "Case Study 1: Student Grade Calculator\n",
        "You are given a list of students with their respective scores in three subjects. Your task is to calculate the average score for each student and determine their grade based on the following criteria:\n",
        "- Grade 'A' for an average score >= 85\n",
        "- Grade 'B' for an average score >= 70 and < 85\n",
        "- Grade 'C' for an average score >= 50 and < 70\n",
        "- Grade 'D' for an average score >= 35 and < 50\n",
        "- Grade 'F' for an average score < 35\n",
        "Output the student's name along with their average score and grade."
      ],
      "metadata": {
        "id": "-gU_hUkQNEun"
      }
    },
    {
      "cell_type": "code",
      "execution_count": 2,
      "metadata": {
        "colab": {
          "base_uri": "https://localhost:8080/"
        },
        "id": "-MXWAr32MhLC",
        "outputId": "aa3c31b6-3321-43fb-b5f3-4d845b7186f1"
      },
      "outputs": [
        {
          "output_type": "stream",
          "name": "stdout",
          "text": [
            "Enter the number of students: 4\n",
            "Enter student name: Rahul\n",
            "Enter Score for Subject 1 for Rahul: 73\n",
            "Enter Score for Subject 2 for Rahul: 88\n",
            "Enter Score for Subject 3 for Rahul: 75\n",
            "Enter student name: Anjali\n",
            "Enter Score for Subject 1 for Anjali: 95\n",
            "Enter Score for Subject 2 for Anjali: 92\n",
            "Enter Score for Subject 3 for Anjali: 98\n",
            "Enter student name: Divya\n",
            "Enter Score for Subject 1 for Divya: 35\n",
            "Enter Score for Subject 2 for Divya: 28\n",
            "Enter Score for Subject 3 for Divya: 43\n",
            "Enter student name: Irfan\n",
            "Enter Score for Subject 1 for Irfan: 52\n",
            "Enter Score for Subject 2 for Irfan: 60\n",
            "Enter Score for Subject 3 for Irfan: 58\n",
            "Student: Rahul, Average Score: 78.66666666666667, Grade: B\n",
            "Student: Anjali, Average Score: 95.0, Grade: A\n",
            "Student: Divya, Average Score: 35.333333333333336, Grade: D\n",
            "Student: Irfan, Average Score: 56.666666666666664, Grade: C\n"
          ]
        }
      ],
      "source": [
        "students = {}\n",
        "\n",
        "num_students = int(input(\"Enter the number of students: \"))\n",
        "\n",
        "for i in range(num_students):\n",
        "  name = input(\"Enter student name: \")\n",
        "  scores = []\n",
        "  for j in range(3):\n",
        "    score = int(input(f\"Enter Score for Subject {j+1} for {name}: \"))\n",
        "    scores.append(score)\n",
        "  students[name] = scores\n",
        "\n",
        "for student, scores in students.items():\n",
        "  average_score = sum(scores) / len(scores)\n",
        "\n",
        "  if average_score >= 85:\n",
        "    grade = 'A'\n",
        "  elif average_score >= 70:\n",
        "    grade = 'B'\n",
        "  elif average_score >= 50:\n",
        "    grade = 'C'\n",
        "  elif average_score >= 35:\n",
        "    grade = 'D'\n",
        "  else:\n",
        "    grade = 'F'\n",
        "\n",
        "  print(f\"Student: {student}, Average Score: {average_score}, Grade: {grade}\")"
      ]
    },
    {
      "cell_type": "markdown",
      "source": [
        "Case Study 2: Shopping Cart System\n",
        "Create a simple shopping cart system where users can add items to their cart. Each item has a name, quantity, and price. Implement a function to calculate the total cost of the items in the cart. If the total cost exceeds a certain limit (e.g., $100), apply a discount of 10%. Also, provide an option to remove items from the cart and update the total accordingly.\n"
      ],
      "metadata": {
        "id": "qIN70h7RO9FI"
      }
    },
    {
      "cell_type": "code",
      "source": [
        "cart = []\n",
        "\n",
        "while True:\n",
        "  item_name = input(\"Enter item name (or 'quit' to exit): \")\n",
        "  if item_name.lower() == 'quit':\n",
        "    break\n",
        "  quantity = int(input(\"Enter quantity: \"))\n",
        "  price = float(input(\"Enter price: \"))\n",
        "  cart.append((item_name, quantity, price))\n",
        "\n",
        "total = sum(item[1] * item[2] for item in cart)\n",
        "discount = 0.1 if total > 100 else 0\n",
        "total_cost = total * (1 - discount)\n",
        "print(\"Total cost:\", total_cost)"
      ],
      "metadata": {
        "colab": {
          "base_uri": "https://localhost:8080/"
        },
        "id": "B9TcUrLeP4XU",
        "outputId": "5f8f7cb0-2768-40b0-976f-5f3d8c8820b4"
      },
      "execution_count": 4,
      "outputs": [
        {
          "output_type": "stream",
          "name": "stdout",
          "text": [
            "Enter item name (or 'quit' to exit): Coconut Oil\n",
            "Enter quantity: 2\n",
            "Enter price: 160\n",
            "Enter item name (or 'quit' to exit): Carrot\n",
            "Enter quantity: 10\n",
            "Enter price: 40\n",
            "Enter item name (or 'quit' to exit): Chilly Powder\n",
            "Enter quantity: 1\n",
            "Enter price: 35\n",
            "Enter item name (or 'quit' to exit): Quit\n",
            "Total cost: 679.5\n"
          ]
        }
      ]
    },
    {
      "cell_type": "markdown",
      "source": [
        "Case Study 3: Palindrome Checker\n",
        "Write a program that checks whether a given word or phrase is a palindrome. A palindrome is a word or phrase that reads the same forward and backward (ignoring spaces, punctuation, and capitalization). The program should repeatedly prompt the user to enter a word or phrase, check if it's a palindrome, and output the result.\n"
      ],
      "metadata": {
        "id": "xdBbdXhgTZ26"
      }
    },
    {
      "cell_type": "code",
      "source": [
        "while True:\n",
        "  text = input(\"Enter a word or phrase (or 'quit' to exit): \")\n",
        "  if text.lower() == 'quit':\n",
        "    break\n",
        "\n",
        "  cleaned_text = ''.join(char.lower() for char in text if char.isalnum())\n",
        "  if cleaned_text == cleaned_text[::-1]:\n",
        "    print(f\"{text} is a palindrome!\")\n",
        "  else:\n",
        "    print(f\"{text} is not a palindrome.\")"
      ],
      "metadata": {
        "colab": {
          "base_uri": "https://localhost:8080/"
        },
        "id": "adaDOPdmTcQa",
        "outputId": "16dfe6c6-8038-4e19-9ce4-44a5fbe00e7c"
      },
      "execution_count": 5,
      "outputs": [
        {
          "name": "stdout",
          "output_type": "stream",
          "text": [
            "Enter a word or phrase (or 'quit' to exit): Malayalam!@\n",
            "Malayalam!@ is a palindrome!\n",
            "Enter a word or phrase (or 'quit' to exit): Data Scientist\n",
            "Data Scientist is not a palindrome.\n",
            "Enter a word or phrase (or 'quit' to exit): English\n",
            "English is not a palindrome.\n",
            "Enter a word or phrase (or 'quit' to exit): quit\n"
          ]
        }
      ]
    },
    {
      "cell_type": "markdown",
      "source": [
        "Case Study 4: Voting System\n",
        "Design a simple voting system where users can cast votes for three candidates. The system should accept votes until a user decides to stop the voting process. After voting ends, display the total votes each candidate received and declare the candidate with the most votes as the winner. If there is a tie, display the candidates who are tied.\n"
      ],
      "metadata": {
        "id": "Wp8BN_d5Uks_"
      }
    },
    {
      "cell_type": "code",
      "source": [
        "candidates = []\n",
        "num_candidates = int(input(\"Enter the number of candidates: \"))\n",
        "\n",
        "for i in range(num_candidates):\n",
        "    candidate_name = input(f\"Enter the name of candidate {i + 1}: \")\n",
        "    candidates.append(candidate_name)\n",
        "\n",
        "votes = {}\n",
        "for candidate in candidates:\n",
        "    votes[candidate] = 0\n",
        "\n",
        "while True:\n",
        "    print(\"\\nCandidates:\")\n",
        "    for i, candidate in enumerate(candidates):\n",
        "        print(f\"{i + 1}. {candidate}\")\n",
        "\n",
        "    choice = int(input(\"Enter the number of your candidate choice (or 0 to stop voting): \"))\n",
        "    if choice == 0:\n",
        "        break\n",
        "    elif 1 <= choice <= len(candidates):\n",
        "        selected_candidate = candidates[choice - 1]\n",
        "        votes[selected_candidate] += 1\n",
        "        print(f\"You voted for {selected_candidate}.\")\n",
        "    else:\n",
        "        print(\"Invalid choice. Please select a valid candidate number.\")\n",
        "\n",
        "print(\"\\nVoting Results:\")\n",
        "for candidate, vote_count in votes.items():\n",
        "    print(f\"{candidate}: {vote_count} votes\")\n",
        "max_votes = max(votes.values())\n",
        "winners = []\n",
        "for candidate, vote_count in votes.items():\n",
        "    if vote_count == max_votes:\n",
        "        winners.append(candidate)\n",
        "\n",
        "if len(winners) == 1:\n",
        "    print(f\"\\nThe winner is {winners[0]} with {max_votes} votes!\")\n",
        "else:\n",
        "    print(f\"\\nIt's a tie between: {', '.join(winners)} with {max_votes} votes each!\")"
      ],
      "metadata": {
        "colab": {
          "base_uri": "https://localhost:8080/"
        },
        "id": "tHUFnlq8Vage",
        "outputId": "da4e6366-b74a-4a86-b88a-2a1e7063f5a2"
      },
      "execution_count": 5,
      "outputs": [
        {
          "output_type": "stream",
          "name": "stdout",
          "text": [
            "Enter the number of candidates: 3\n",
            "Enter the name of candidate 1: Sham\n",
            "Enter the name of candidate 2: Narayanan\n",
            "Enter the name of candidate 3: Joseph\n",
            "\n",
            "Candidates:\n",
            "1. Sham\n",
            "2. Narayanan\n",
            "3. Joseph\n",
            "Enter the number of your candidate choice (or 0 to stop voting): 3\n",
            "You voted for Joseph.\n",
            "\n",
            "Candidates:\n",
            "1. Sham\n",
            "2. Narayanan\n",
            "3. Joseph\n",
            "Enter the number of your candidate choice (or 0 to stop voting): 2\n",
            "You voted for Narayanan.\n",
            "\n",
            "Candidates:\n",
            "1. Sham\n",
            "2. Narayanan\n",
            "3. Joseph\n",
            "Enter the number of your candidate choice (or 0 to stop voting): 2\n",
            "You voted for Narayanan.\n",
            "\n",
            "Candidates:\n",
            "1. Sham\n",
            "2. Narayanan\n",
            "3. Joseph\n",
            "Enter the number of your candidate choice (or 0 to stop voting): 3\n",
            "You voted for Joseph.\n",
            "\n",
            "Candidates:\n",
            "1. Sham\n",
            "2. Narayanan\n",
            "3. Joseph\n",
            "Enter the number of your candidate choice (or 0 to stop voting): 0\n",
            "\n",
            "Voting Results:\n",
            "Sham: 0 votes\n",
            "Narayanan: 2 votes\n",
            "Joseph: 2 votes\n",
            "\n",
            "It's a tie between: Narayanan, Joseph with 2 votes each!\n"
          ]
        }
      ]
    },
    {
      "cell_type": "markdown",
      "source": [
        "Case Study 5: Create an inventory management system for a small store. The system should allow the store owner to add, remove, or update items in the inventory. Each item should have a name, quantity, and price. The system should also provide a summary of the total number of items and the total value of the inventory. Additionally, implement a feature to alert the store owner when an item's quantity falls below a certain threshold (e.g., 5 units)."
      ],
      "metadata": {
        "id": "MPSu2z24gnRa"
      }
    },
    {
      "cell_type": "code",
      "source": [
        "inventory = {}\n",
        "\n",
        "while True:\n",
        "    print(\"\\nInventory Management System\")\n",
        "    print(\"1. Display Inventory\")\n",
        "    print(\"2. Add or Update Item\")\n",
        "    print(\"3. Remove Item\")\n",
        "    print(\"4. Summarize Inventory\")\n",
        "    print(\"5. Check Low Stock\")\n",
        "    print(\"6. Exit\")\n",
        "\n",
        "    choice = int(input(\"Choose an option: \"))\n",
        "\n",
        "    if choice == 1:\n",
        "        print(\"\\nCurrent Inventory:\")\n",
        "        if not inventory:\n",
        "            print(\"The inventory is empty.\")\n",
        "        else:\n",
        "            for item, details in inventory.items():\n",
        "                print(f\"Item: {item}, Quantity: {details['quantity']}, Price: ${details['price']:.2f}\")\n",
        "        print()\n",
        "\n",
        "    elif choice == 2:\n",
        "        item_name = input(\"Enter the item name: \").strip()\n",
        "        quantity = int(input(f\"Enter the quantity for {item_name}: \"))\n",
        "        price = float(input(f\"Enter the price for {item_name}: \"))\n",
        "\n",
        "        if item_name in inventory:\n",
        "            inventory[item_name]['quantity'] += quantity\n",
        "            inventory[item_name]['price'] = price\n",
        "            print(f\"Updated {item_name} in inventory.\")\n",
        "        else:\n",
        "            inventory[item_name] = {'quantity': quantity, 'price': price}\n",
        "            print(f\"Added {item_name} to inventory.\")\n",
        "\n",
        "    elif choice == 3:\n",
        "        item_name = input(\"Enter the item name to remove: \").strip()\n",
        "\n",
        "        if item_name in inventory:\n",
        "            del inventory[item_name]\n",
        "            print(f\"Removed {item_name} from inventory.\")\n",
        "        else:\n",
        "            print(f\"{item_name} does not exist in the inventory.\")\n",
        "\n",
        "    elif choice == 4:\n",
        "        total_items = sum(details['quantity'] for details in inventory.values())\n",
        "        total_value = sum(details['quantity'] * details['price'] for details in inventory.values())\n",
        "        print(f\"\\nTotal number of items: {total_items}\")\n",
        "        print(f\"Total value of inventory: ${total_value:.2f}\\n\")\n",
        "\n",
        "    elif choice == 5:\n",
        "        threshold = 5\n",
        "        print(\"\\nLow Stock Alert:\")\n",
        "        low_stock_items = [item for item, details in inventory.items() if details['quantity'] < threshold]\n",
        "        if not low_stock_items:\n",
        "            print(\"No items are below the threshold.\")\n",
        "        else:\n",
        "            for item in low_stock_items:\n",
        "                print(f\"{item} is below the threshold with {inventory[item]['quantity']} units remaining.\")\n",
        "\n",
        "    elif choice == 6:\n",
        "        print(\"Exiting the inventory management system.\")\n",
        "        break\n",
        "\n",
        "    else:\n",
        "        print(\"Invalid choice. Please choose a valid option.\")\n"
      ],
      "metadata": {
        "colab": {
          "base_uri": "https://localhost:8080/"
        },
        "id": "lC7R6f-ehWBz",
        "outputId": "9064b88e-4134-43e0-c139-0293889b6e1b"
      },
      "execution_count": 1,
      "outputs": [
        {
          "output_type": "stream",
          "name": "stdout",
          "text": [
            "\n",
            "Inventory Management System\n",
            "1. Display Inventory\n",
            "2. Add or Update Item\n",
            "3. Remove Item\n",
            "4. Summarize Inventory\n",
            "5. Check Low Stock\n",
            "6. Exit\n",
            "Choose an option: 2\n",
            "Enter the item name: Item 1\n",
            "Enter the quantity for Item 1: 10\n",
            "Enter the price for Item 1: 1200\n",
            "Added Item 1 to inventory.\n",
            "\n",
            "Inventory Management System\n",
            "1. Display Inventory\n",
            "2. Add or Update Item\n",
            "3. Remove Item\n",
            "4. Summarize Inventory\n",
            "5. Check Low Stock\n",
            "6. Exit\n",
            "Choose an option: 3\n",
            "Enter the item name to remove: Item 1\n",
            "Removed Item 1 from inventory.\n",
            "\n",
            "Inventory Management System\n",
            "1. Display Inventory\n",
            "2. Add or Update Item\n",
            "3. Remove Item\n",
            "4. Summarize Inventory\n",
            "5. Check Low Stock\n",
            "6. Exit\n",
            "Choose an option: 6\n",
            "Exiting the inventory management system.\n"
          ]
        }
      ]
    }
  ]
}