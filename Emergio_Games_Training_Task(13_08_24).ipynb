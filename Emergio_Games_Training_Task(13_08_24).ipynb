{
  "nbformat": 4,
  "nbformat_minor": 0,
  "metadata": {
    "colab": {
      "provenance": [],
      "authorship_tag": "ABX9TyN9gTWQyVAFvBmyI7yDdG9y",
      "include_colab_link": true
    },
    "kernelspec": {
      "name": "python3",
      "display_name": "Python 3"
    },
    "language_info": {
      "name": "python"
    }
  },
  "cells": [
    {
      "cell_type": "markdown",
      "metadata": {
        "id": "view-in-github",
        "colab_type": "text"
      },
      "source": [
        "<a href=\"https://colab.research.google.com/github/muhammedafsalpm/Emergio_Games_Training/blob/main/Emergio_Games_Training_Task(13_08_24).ipynb\" target=\"_parent\"><img src=\"https://colab.research.google.com/assets/colab-badge.svg\" alt=\"Open In Colab\"/></a>"
      ]
    },
    {
      "cell_type": "markdown",
      "source": [
        "1. Write a Python program to find the length of a given string.\n",
        "\n"
      ],
      "metadata": {
        "id": "gWNTP5C5Zpqn"
      }
    },
    {
      "cell_type": "code",
      "execution_count": 1,
      "metadata": {
        "colab": {
          "base_uri": "https://localhost:8080/"
        },
        "id": "v3tsXoq0XOsg",
        "outputId": "b75b099f-f030-4533-b8d1-71c3b9d0a0e4"
      },
      "outputs": [
        {
          "output_type": "stream",
          "name": "stdout",
          "text": [
            "Enter the String : Microsoft\n",
            "Lenght of the given string is  9\n"
          ]
        }
      ],
      "source": [
        "string = input(\"Enter the String : \")\n",
        "count = 0\n",
        "\n",
        "for char in string:\n",
        "  count+=1\n",
        "\n",
        "print(\"Lenght of the given string is \",count)\n"
      ]
    },
    {
      "cell_type": "markdown",
      "source": [
        "2. Write a Python program to convert a string to uppercase and lowercase."
      ],
      "metadata": {
        "id": "Kf1Fg4BlZxv_"
      }
    },
    {
      "cell_type": "code",
      "source": [
        "\n",
        "string = input(\"Enter the string : \")\n",
        "\n",
        "print(\"Uppercase is \",string.upper())\n",
        "print(\"Lowercase is \",string.lower())"
      ],
      "metadata": {
        "colab": {
          "base_uri": "https://localhost:8080/"
        },
        "id": "JlFyu2EUX2iP",
        "outputId": "c3b7af95-85a8-4fe6-b563-24fbaa15eaf8"
      },
      "execution_count": 4,
      "outputs": [
        {
          "output_type": "stream",
          "name": "stdout",
          "text": [
            "Enter the string : Amazon\n",
            "Uppercase is  AMAZON\n",
            "Lowercase is  amazon\n"
          ]
        }
      ]
    },
    {
      "cell_type": "markdown",
      "source": [
        "3. Write a Python program to check if a string starts with a specific prefix."
      ],
      "metadata": {
        "id": "yS0y0QUfZ6nH"
      }
    },
    {
      "cell_type": "code",
      "source": [
        "string = input(\"Enter the string : \")\n",
        "prefix = input(\"Enter the prefix : \")\n",
        "\n",
        "if string.startswith(prefix):\n",
        "  print(f\"The given '{string}' starts with '{prefix}'\")\n",
        "else:\n",
        "    print(f\"The given '{string}' does not starts with '{prefix}'\")"
      ],
      "metadata": {
        "colab": {
          "base_uri": "https://localhost:8080/"
        },
        "id": "F7nIljOKZmo3",
        "outputId": "1dbc9695-70be-42bf-d6e1-11d900d659e6"
      },
      "execution_count": 8,
      "outputs": [
        {
          "output_type": "stream",
          "name": "stdout",
          "text": [
            "Enter the string : Mr. John\n",
            "Enter the prefix : Mrs\n",
            "The given 'Mr. John' does not starts with 'Mrs'\n"
          ]
        }
      ]
    },
    {
      "cell_type": "markdown",
      "source": [
        "4. Write a Python program to check if a string ends with a specific suffix."
      ],
      "metadata": {
        "id": "1PgbcofLcBA7"
      }
    },
    {
      "cell_type": "code",
      "source": [
        "string = input(\"Enter the string : \")\n",
        "suffix = input(\"Enter the suffix : \")\n",
        "\n",
        "if string.endswith(suffix):\n",
        "  print(f\"The given '{string}' ends with '{suffix}'\")\n",
        "else:\n",
        "    print(f\"The given '{string}' does not ends with '{suffix}'\")"
      ],
      "metadata": {
        "colab": {
          "base_uri": "https://localhost:8080/"
        },
        "id": "CQRI_j_Gb4Sr",
        "outputId": "414ff266-36ce-45cb-8488-ad076e1c34f8"
      },
      "execution_count": 13,
      "outputs": [
        {
          "output_type": "stream",
          "name": "stdout",
          "text": [
            "Enter the string : Anjali PR\n",
            "Enter the suffix : PR\n",
            "The given 'Anjali PR' ends with 'PR'\n"
          ]
        }
      ]
    },
    {
      "cell_type": "markdown",
      "source": [
        "5. Write a Python program to find the first occurrence of a substring in a string."
      ],
      "metadata": {
        "id": "vjJQiYYQexQG"
      }
    },
    {
      "cell_type": "code",
      "source": [
        "string = input(\"Enter a string: \")\n",
        "substring = input(\"Enter the substring: \")\n",
        "\n",
        "index = string.find(substring)\n",
        "\n",
        "if index != -1:\n",
        "  print(\"First occurrence of the substring is at index:\", index)\n",
        "else:\n",
        "  print(\"Substring not found in the string.\")\n"
      ],
      "metadata": {
        "colab": {
          "base_uri": "https://localhost:8080/"
        },
        "id": "WaD5VyPIe1CD",
        "outputId": "2fe9bd69-3833-4378-e873-2c680a5e33b8"
      },
      "execution_count": 14,
      "outputs": [
        {
          "output_type": "stream",
          "name": "stdout",
          "text": [
            "Enter a string: A Beautiful Day\n",
            "Enter the substring: Day\n",
            "First occurrence of the substring is at index: 12\n"
          ]
        }
      ]
    },
    {
      "cell_type": "markdown",
      "source": [
        "6. Write a Python program to count the occurrences of a specific character in a string."
      ],
      "metadata": {
        "id": "YlzsPaKsfj-D"
      }
    },
    {
      "cell_type": "code",
      "source": [
        "string = input(\"Enter a string: \")\n",
        "char = input(\"Enter the character: \")\n",
        "\n",
        "count = 0\n",
        "for c in string:\n",
        "  if c == char:\n",
        "    count += 1\n",
        "\n",
        "print(\"The character\", char, \"appears\", count, \"times in the string.\")\n"
      ],
      "metadata": {
        "colab": {
          "base_uri": "https://localhost:8080/"
        },
        "id": "SdZZOxZof1lT",
        "outputId": "8fa81c92-818c-4796-d039-1f177f1d12a5"
      },
      "execution_count": 15,
      "outputs": [
        {
          "output_type": "stream",
          "name": "stdout",
          "text": [
            "Enter a string: Emergio\n",
            "Enter the character: r\n",
            "The character r appears 1 times in the string.\n"
          ]
        }
      ]
    },
    {
      "cell_type": "markdown",
      "source": [
        "7. Write a Python program to remove leading and trailing whitespaces from a string."
      ],
      "metadata": {
        "id": "zg-dBx18gPtp"
      }
    },
    {
      "cell_type": "code",
      "source": [
        "string = input(\"Enter a string: \")\n",
        "stripped_string = string.strip()\n",
        "\n",
        "print(\"The string without leading and trailing whitespaces is:\", stripped_string)\n"
      ],
      "metadata": {
        "colab": {
          "base_uri": "https://localhost:8080/"
        },
        "id": "WheI1KQdgai7",
        "outputId": "f54a85e8-72e6-4c70-84c0-198c47f72dea"
      },
      "execution_count": 8,
      "outputs": [
        {
          "output_type": "stream",
          "name": "stdout",
          "text": [
            "Enter a string:            EMERGIO games                   \n",
            "The string without leading and trailing whitespaces is: EMERGIO games\n"
          ]
        }
      ]
    },
    {
      "cell_type": "markdown",
      "source": [
        "8. Write a Python program to replace all occurrences of a substring within a string with another substring."
      ],
      "metadata": {
        "id": "nlzsPa1lk7JY"
      }
    },
    {
      "cell_type": "code",
      "source": [
        "string = input(\"Enter a string: \")\n",
        "old_substring = input(\"Enter the old substring: \")\n",
        "new_substring = input(\"Enter the new substring: \")\n",
        "\n",
        "replaced_string = string.replace(old_substring, new_substring)\n",
        "\n",
        "print(\"The modified string is:\", replaced_string)\n"
      ],
      "metadata": {
        "colab": {
          "base_uri": "https://localhost:8080/"
        },
        "id": "zrCTuJzClB6I",
        "outputId": "931c6024-acc2-4b16-98a3-d4d4c6e76deb"
      },
      "execution_count": 20,
      "outputs": [
        {
          "output_type": "stream",
          "name": "stdout",
          "text": [
            "Enter a string: Life is easy\n",
            "Enter the old substring: easy\n",
            "Enter the new substring: hard\n",
            "The modified string is: Life is hard\n"
          ]
        }
      ]
    },
    {
      "cell_type": "markdown",
      "source": [
        "9. Write a Python program to split a string by spaces and join it back using a hyphen."
      ],
      "metadata": {
        "id": "V-A46ysPlcQp"
      }
    },
    {
      "cell_type": "code",
      "source": [
        "string = input(\"Enter a string: \")\n",
        "words = string.split()\n",
        "hyphenated_string = \"-\".join(words)\n",
        "\n",
        "print(\"The hyphenated string is:\", hyphenated_string)\n"
      ],
      "metadata": {
        "colab": {
          "base_uri": "https://localhost:8080/"
        },
        "id": "rAZ8gLlIlsFh",
        "outputId": "5f734568-dd5a-4e90-c313-cebc8ce8c9ad"
      },
      "execution_count": 21,
      "outputs": [
        {
          "output_type": "stream",
          "name": "stdout",
          "text": [
            "Enter a string: Old is Gold\n",
            "The hyphenated string is: Old-is-Gold\n"
          ]
        }
      ]
    },
    {
      "cell_type": "markdown",
      "source": [
        "10. Write a Python program to find whether a given string is numeric or not."
      ],
      "metadata": {
        "id": "LqJ015Xyl5eJ"
      }
    },
    {
      "cell_type": "code",
      "source": [
        "string = input(\"Enter a string: \")\n",
        "\n",
        "if string.isdigit():\n",
        "  print(\"The given string is numeric\")\n",
        "else:\n",
        "  print(\"The given string is not numeric\")"
      ],
      "metadata": {
        "colab": {
          "base_uri": "https://localhost:8080/"
        },
        "id": "_F_6J6szl8YZ",
        "outputId": "d7c97f0a-262d-484a-c4a0-40b50ab36365"
      },
      "execution_count": 24,
      "outputs": [
        {
          "output_type": "stream",
          "name": "stdout",
          "text": [
            "Enter a string: Afsal\n",
            "The given string is not numeric\n"
          ]
        }
      ]
    },
    {
      "cell_type": "markdown",
      "source": [
        "11. Write a Python program to concatenate two strings."
      ],
      "metadata": {
        "id": "ag_rLwsCm3Ix"
      }
    },
    {
      "cell_type": "code",
      "source": [
        "str1 = input(\"Enter the first string: \")\n",
        "str2 = input(\"Enter the second string: \")\n",
        "\n",
        "concatenated_string = str1 + str2\n",
        "\n",
        "print(\"The concatenated string is:\", concatenated_string)\n"
      ],
      "metadata": {
        "colab": {
          "base_uri": "https://localhost:8080/"
        },
        "id": "v10numWCoe1E",
        "outputId": "4612fbf3-537b-4f56-abb8-0f3bef0c8967"
      },
      "execution_count": 25,
      "outputs": [
        {
          "output_type": "stream",
          "name": "stdout",
          "text": [
            "Enter the first string: Emergio\n",
            "Enter the second string:  Games\n",
            "The concatenated string is: Emergio Games\n"
          ]
        }
      ]
    },
    {
      "cell_type": "markdown",
      "source": [
        "12. Write a Python program to find the ASCII value of a character in a string."
      ],
      "metadata": {
        "id": "W0WGtgKH54JJ"
      }
    },
    {
      "cell_type": "code",
      "source": [
        "string = input(\"Enter the string \")\n",
        "\n",
        "for char in string:\n",
        "  print(\"ASCCI of \",char,\" is \",ord(char))"
      ],
      "metadata": {
        "colab": {
          "base_uri": "https://localhost:8080/"
        },
        "id": "O6PLCSoa5-UA",
        "outputId": "e4695a28-dc2f-4a55-dfd0-e2a151b87180"
      },
      "execution_count": 28,
      "outputs": [
        {
          "output_type": "stream",
          "name": "stdout",
          "text": [
            "Enter the string Emergio\n",
            "ASCCI of  E  is  69\n",
            "ASCCI of  m  is  109\n",
            "ASCCI of  e  is  101\n",
            "ASCCI of  r  is  114\n",
            "ASCCI of  g  is  103\n",
            "ASCCI of  i  is  105\n",
            "ASCCI of  o  is  111\n"
          ]
        }
      ]
    },
    {
      "cell_type": "markdown",
      "source": [
        "13. Write a Python program to reverse a string."
      ],
      "metadata": {
        "id": "ee0XdOkQ7F8F"
      }
    },
    {
      "cell_type": "code",
      "source": [
        "string = input(\"Enter the string \")\n",
        "\n",
        "print(string[::-1])"
      ],
      "metadata": {
        "colab": {
          "base_uri": "https://localhost:8080/"
        },
        "id": "mJ3NH8Uy7JQd",
        "outputId": "10edfd2f-e9f0-4d0f-b0c3-4c59f5592c42"
      },
      "execution_count": 30,
      "outputs": [
        {
          "output_type": "stream",
          "name": "stdout",
          "text": [
            "Enter the string Data Scientist\n",
            "tsitneicS ataD\n"
          ]
        }
      ]
    },
    {
      "cell_type": "markdown",
      "source": [
        "14. Write a Python program to check if a string contains only alphabets."
      ],
      "metadata": {
        "id": "OFWz5Nz27gek"
      }
    },
    {
      "cell_type": "code",
      "source": [
        "string = input(\"Enter a string: \")\n",
        "\n",
        "if string.isalpha():\n",
        "    print(\"The string contains only alphabets.\")\n",
        "else:\n",
        "    print(\"The string contains non-alphabetic characters.\")\n"
      ],
      "metadata": {
        "colab": {
          "base_uri": "https://localhost:8080/"
        },
        "id": "3Zds5Div7i6U",
        "outputId": "dc58082d-aabb-4e82-c4a9-5eef1a7652b2"
      },
      "execution_count": 32,
      "outputs": [
        {
          "output_type": "stream",
          "name": "stdout",
          "text": [
            "Enter a string: Developer2\n",
            "The string contains non-alphabetic characters.\n"
          ]
        }
      ]
    },
    {
      "cell_type": "markdown",
      "source": [
        "15. Write a Python program to find the position of the last occurrence of a substring in a string."
      ],
      "metadata": {
        "id": "yTNnMZIw70qE"
      }
    },
    {
      "cell_type": "code",
      "source": [
        "string = input(\"Enter a string: \")\n",
        "substring = input(\"Enter the substring: \")\n",
        "\n",
        "last_index = string.rfind(substring)\n",
        "\n",
        "if last_index != -1:\n",
        "    print(\"The last occurrence of the substring is at index:\", last_index)\n",
        "else:\n",
        "    print(\"Substring not found in the string.\")\n"
      ],
      "metadata": {
        "colab": {
          "base_uri": "https://localhost:8080/"
        },
        "id": "GkSAY2Ob73hr",
        "outputId": "7d4d0467-c779-447e-b25c-1c7c6b3019a3"
      },
      "execution_count": 35,
      "outputs": [
        {
          "output_type": "stream",
          "name": "stdout",
          "text": [
            "Enter a string: Life is ten percent what happens to you and ninety percent how you respond to it\n",
            "Enter the substring: to\n",
            "The last occurrence of the substring is at index: 75\n"
          ]
        }
      ]
    },
    {
      "cell_type": "markdown",
      "source": [
        "16. Write a Python program to count the number of vowels and consonants in a string"
      ],
      "metadata": {
        "id": "bkRpEdG19N0M"
      }
    },
    {
      "cell_type": "code",
      "source": [
        "string = input(\"Enter a string: \")\n",
        "vowels = 0\n",
        "consonants = 0\n",
        "\n",
        "for char in string:\n",
        "    if char in \"aeiouAEIOU\":\n",
        "        vowels += 1\n",
        "    else:\n",
        "        consonants += 1\n",
        "\n",
        "print(\"Number of Vowels in the given string is \",vowels)\n",
        "print(\"Number of Vowels in the given consonants is \",consonants)"
      ],
      "metadata": {
        "colab": {
          "base_uri": "https://localhost:8080/"
        },
        "id": "sCcri4iL9SGU",
        "outputId": "514a3a83-4b10-4083-ccad-f5ae219190ef"
      },
      "execution_count": 40,
      "outputs": [
        {
          "output_type": "stream",
          "name": "stdout",
          "text": [
            "Enter a string: Emergio\n",
            "Number of Vowels in the given string is  4\n",
            "Number of Vowels in the given consonants is  3\n"
          ]
        }
      ]
    },
    {
      "cell_type": "markdown",
      "source": [
        "17. Write a Python program to find all the words in a string that are longer than a specified length."
      ],
      "metadata": {
        "id": "e3rLnllv_LF4"
      }
    },
    {
      "cell_type": "code",
      "source": [
        "string = input(\"Enter a string: \")\n",
        "min_length = int(input(\"Enter the minimum word length: \"))\n",
        "\n",
        "words = string.split()\n",
        "long_words = [word for word in words if len(word) > min_length]\n",
        "\n",
        "print(\"Words longer than\", min_length, \"characters:\", long_words)\n"
      ],
      "metadata": {
        "colab": {
          "base_uri": "https://localhost:8080/"
        },
        "id": "fhy5SOnG_Oun",
        "outputId": "9108aa57-3303-4d70-f81c-9b01751ab1dc"
      },
      "execution_count": 41,
      "outputs": [
        {
          "output_type": "stream",
          "name": "stdout",
          "text": [
            "Enter a string: Life is ten percent what happens to you and ninety percent how you respond to it\n",
            "Enter the minimum word length: 4\n",
            "Words longer than 4 characters: ['percent', 'happens', 'ninety', 'percent', 'respond']\n"
          ]
        }
      ]
    },
    {
      "cell_type": "markdown",
      "source": [
        "18. Write a Python program to convert a string to a list of characters and back to a string."
      ],
      "metadata": {
        "id": "B6eeA4ic_1H3"
      }
    },
    {
      "cell_type": "code",
      "source": [
        "string = input(\"Enter a string: \")\n",
        "\n",
        "char_list = list(string)\n",
        "print(\"List of characters:\", char_list)\n",
        "\n",
        "string_from_list = \"\".join(char_list)\n",
        "print(\"String from list:\", string_from_list)\n"
      ],
      "metadata": {
        "colab": {
          "base_uri": "https://localhost:8080/"
        },
        "id": "zXJEzW8M_4N3",
        "outputId": "5c094068-edc9-4d72-a558-069b48f7fdfe"
      },
      "execution_count": 42,
      "outputs": [
        {
          "output_type": "stream",
          "name": "stdout",
          "text": [
            "Enter a string: Data Science\n",
            "List of characters: ['D', 'a', 't', 'a', ' ', 'S', 'c', 'i', 'e', 'n', 'c', 'e']\n",
            "String from list: Data Science\n"
          ]
        }
      ]
    },
    {
      "cell_type": "markdown",
      "source": [
        "19. Write a Python program to find the most frequent character in a string."
      ],
      "metadata": {
        "id": "yfzegp4fArjI"
      }
    },
    {
      "cell_type": "code",
      "source": [
        "string = input(\"Enter a string: \")\n",
        "\n",
        "frq_char = None\n",
        "max_frq = 0\n",
        "\n",
        "for char in string:\n",
        "  frq = string.count(char)\n",
        "\n",
        "  if frq > max_frq:\n",
        "    frq_char = char\n",
        "    max_frq = frq\n",
        "\n",
        "print(\"The most frequency character in the given string is \",frq_char,\" with \",max_frq)\n",
        "\n"
      ],
      "metadata": {
        "colab": {
          "base_uri": "https://localhost:8080/"
        },
        "id": "0OMvM6nfA1LH",
        "outputId": "97168161-4082-4c8c-ac4e-eaa387fd0eda"
      },
      "execution_count": 45,
      "outputs": [
        {
          "output_type": "stream",
          "name": "stdout",
          "text": [
            "Enter a string: data analysis\n",
            "The most frequency character in the given string is  a  with  4\n"
          ]
        }
      ]
    },
    {
      "cell_type": "markdown",
      "source": [
        "20. Write a Python program to remove all vowels from a string."
      ],
      "metadata": {
        "id": "Casa1fS1DxT0"
      }
    },
    {
      "cell_type": "code",
      "source": [
        "string = input(\"Enter a string: \")\n",
        "\n",
        "vowels = \"aeiouAEIOU\"\n",
        "\n",
        "new_string = \"\"\n",
        "for char in string:\n",
        "    if char not in vowels:\n",
        "        new_string += char\n",
        "\n",
        "print(\"String without vowels:\", new_string)\n"
      ],
      "metadata": {
        "colab": {
          "base_uri": "https://localhost:8080/"
        },
        "id": "cAcdX_2dD-7k",
        "outputId": "eb416255-e3ca-4d62-d928-cbad5dd31d53"
      },
      "execution_count": 46,
      "outputs": [
        {
          "output_type": "stream",
          "name": "stdout",
          "text": [
            "Enter a string: Python Developer\n",
            "String without vowels: Pythn Dvlpr\n"
          ]
        }
      ]
    },
    {
      "cell_type": "markdown",
      "source": [
        "21. Write a Python program to check if a string is a palindrome."
      ],
      "metadata": {
        "id": "I7J-goZ9EQrL"
      }
    },
    {
      "cell_type": "code",
      "source": [
        "string = input(\"Enter a string: \")\n",
        "\n",
        "if string.lower() == string[::-1].lower():\n",
        "  print(\"The given string is palindrome\")\n",
        "else:\n",
        "  print(\"The given string is not Palindrome\")"
      ],
      "metadata": {
        "colab": {
          "base_uri": "https://localhost:8080/"
        },
        "id": "9fxPU6PQEYFr",
        "outputId": "4ff4f646-1eba-429c-cb2e-3cdb8a2f1ced"
      },
      "execution_count": 52,
      "outputs": [
        {
          "output_type": "stream",
          "name": "stdout",
          "text": [
            "Enter a string: Malayalam\n",
            "The given string is palindrome\n"
          ]
        }
      ]
    },
    {
      "cell_type": "markdown",
      "source": [
        "22. Write a Python program to swap the case of all characters in a string."
      ],
      "metadata": {
        "id": "HJHAHOxWFKTN"
      }
    },
    {
      "cell_type": "code",
      "source": [
        "string = input(\"Enter a string: \")\n",
        "\n",
        "print(\"Swap Cased String is \",string.swapcase())"
      ],
      "metadata": {
        "colab": {
          "base_uri": "https://localhost:8080/"
        },
        "id": "DUWNZR7ZFM7c",
        "outputId": "ccb57241-7348-4fb6-a659-d37f46a3df05"
      },
      "execution_count": 55,
      "outputs": [
        {
          "output_type": "stream",
          "name": "stdout",
          "text": [
            "Enter a string: HarD WorK\n",
            "Swap Cased String is  hARd wORk\n"
          ]
        }
      ]
    },
    {
      "cell_type": "markdown",
      "source": [
        "23. Write a Python program to find the longest word in a string."
      ],
      "metadata": {
        "id": "HIV_XjVFFlce"
      }
    },
    {
      "cell_type": "code",
      "source": [
        "string = input(\"Enter a string: \")\n",
        "\n",
        "words = string.split()\n",
        "longest_word = max(words, key=len)\n",
        "\n",
        "print(\"The longest word is:\", longest_word)\n"
      ],
      "metadata": {
        "colab": {
          "base_uri": "https://localhost:8080/"
        },
        "id": "tKiyh8TyFoWl",
        "outputId": "b8e49c20-b784-4f8e-82cb-4f32dc177e25"
      },
      "execution_count": 57,
      "outputs": [
        {
          "output_type": "stream",
          "name": "stdout",
          "text": [
            "Enter a string: Life is ten percent what \n",
            "The longest word is: percent\n"
          ]
        }
      ]
    },
    {
      "cell_type": "markdown",
      "source": [
        "24. Write a Python program to count the number of words in a string."
      ],
      "metadata": {
        "id": "mNXyaEGnGDxP"
      }
    },
    {
      "cell_type": "code",
      "source": [
        "string = input(\"Enter a string: \")\n",
        "\n",
        "count = len(string.split())\n",
        "print(\"Number of words in the given string is \",count)"
      ],
      "metadata": {
        "colab": {
          "base_uri": "https://localhost:8080/"
        },
        "id": "3F04Mz8UGHtR",
        "outputId": "86ec85e7-7b17-4ddb-c138-7aee48109733"
      },
      "execution_count": 62,
      "outputs": [
        {
          "output_type": "stream",
          "name": "stdout",
          "text": [
            "Enter a string: Life is ten percent what \n",
            "Number of words in the given string is  5\n"
          ]
        }
      ]
    },
    {
      "cell_type": "markdown",
      "source": [
        "25. Write a Python program to find the longest substring without repeating characters in a string."
      ],
      "metadata": {
        "id": "CQNiu4MkHM7J"
      }
    },
    {
      "cell_type": "code",
      "source": [
        "string = input(\"Enter a string: \")\n",
        "\n",
        "n = len(string)\n",
        "char_index = {}\n",
        "max_len = 0\n",
        "start = 0\n",
        "max_substr = \"\"\n",
        "\n",
        "for end in range(n):\n",
        "    if string[end] in char_index:\n",
        "        start = max(start, char_index[string[end]] + 1)\n",
        "    char_index[string[end]] = end\n",
        "    current_len = end - start + 1\n",
        "    if current_len > max_len:\n",
        "        max_len = current_len\n",
        "        max_substr = string[start:end + 1]\n",
        "\n",
        "print(\"The longest substring without repeating characters is:\", max_substr)\n"
      ],
      "metadata": {
        "colab": {
          "base_uri": "https://localhost:8080/"
        },
        "id": "-FISyHIDHQOv",
        "outputId": "8ca1a9d8-4b8c-4824-d509-002e6ed9f058"
      },
      "execution_count": 66,
      "outputs": [
        {
          "output_type": "stream",
          "name": "stdout",
          "text": [
            "Enter a string: Life is ten percent what\n",
            "The longest substring without repeating characters is: rcent wha\n"
          ]
        }
      ]
    },
    {
      "cell_type": "markdown",
      "source": [
        "26. Write a Python program to extract all numbers from a string and return them as a list."
      ],
      "metadata": {
        "id": "OJLDtnuMMhal"
      }
    },
    {
      "cell_type": "code",
      "source": [
        "string = input(\"Enter a string: \")\n",
        "result =[]\n",
        "\n",
        "for char in string:\n",
        "  if char.isnumeric():\n",
        "    result.append(char)\n",
        "\n",
        "print(result)"
      ],
      "metadata": {
        "colab": {
          "base_uri": "https://localhost:8080/"
        },
        "id": "SYjmKHgtNd7u",
        "outputId": "1e42090c-1895-475a-c604-1e141edfa803"
      },
      "execution_count": 69,
      "outputs": [
        {
          "output_type": "stream",
          "name": "stdout",
          "text": [
            "Enter a string: A7B8Hi890a\n",
            "['7', '8', '8', '9', '0']\n"
          ]
        }
      ]
    },
    {
      "cell_type": "markdown",
      "source": [
        "27.  Write a Python program to find the most frequent word in a string and its frequency."
      ],
      "metadata": {
        "id": "-cJkCWiYPAr3"
      }
    },
    {
      "cell_type": "code",
      "source": [
        "string = input(\"Enter a string: \")\n",
        "\n",
        "words = string.split()\n",
        "word_count = {}\n",
        "for word in words:\n",
        "    word_count[word] = word_count.get(word, 0) + 1\n",
        "\n",
        "max_word = max(word_count, key=word_count.get)\n",
        "max_freq = word_count[max_word]\n",
        "\n",
        "print(\"The most frequent word is:\", max_word)\n",
        "print(\"Its frequency is:\", max_freq)\n",
        "\n"
      ],
      "metadata": {
        "colab": {
          "base_uri": "https://localhost:8080/"
        },
        "id": "7459ZIGFPK0Z",
        "outputId": "be00a85f-f915-4163-8c82-a9571fff193b"
      },
      "execution_count": 75,
      "outputs": [
        {
          "output_type": "stream",
          "name": "stdout",
          "text": [
            "Enter a string: Life is ten percent what happens to you and ninety percent how you respond to it\n",
            "The most frequent word is: percent\n",
            "Its frequency is: 2\n"
          ]
        }
      ]
    },
    {
      "cell_type": "markdown",
      "source": [
        "28. Write a Python program to check if two strings are anagrams."
      ],
      "metadata": {
        "id": "u4FUM5npRtXC"
      }
    },
    {
      "cell_type": "code",
      "source": [
        "str1 = input(\"Enter the first string: \")\n",
        "str2 = input(\"Enter the second string: \")\n",
        "\n",
        "if len(str1) != len(str2):\n",
        "    print(\"The strings are not anagrams.\")\n",
        "else:\n",
        "    char_count1 = {}\n",
        "    char_count2 = {}\n",
        "\n",
        "    for char in str1:\n",
        "        char_count1[char] = char_count1.get(char, 0) + 1\n",
        "\n",
        "    for char in str2:\n",
        "        char_count2[char] = char_count2.get(char, 0) + 1\n",
        "\n",
        "    if char_count1 == char_count2:\n",
        "        print(\"The strings are anagrams.\")\n",
        "    else:\n",
        "        print(\"The strings are not anagrams.\")\n",
        "\n",
        "\n",
        "# with sorted() function\n",
        "\n",
        "str3 = input(\"Enter the first string: \")\n",
        "str4 = input(\"Enter the second string: \")\n",
        "\n",
        "if len(str3) != len(str4):\n",
        "  print(\"The strings are not anagrams.\")\n",
        "else:\n",
        "  if sorted(str3.lower())==sorted(str4.lower()):\n",
        "    print(\"Given strings are Anagrams\")\n",
        "  else:\n",
        "    print(\"Given strings are not Anagrams\")\n",
        "\n",
        "\n"
      ],
      "metadata": {
        "colab": {
          "base_uri": "https://localhost:8080/"
        },
        "id": "58ehewXlRwxD",
        "outputId": "ed959a1c-63b2-44ef-f432-3c44007d948c"
      },
      "execution_count": 1,
      "outputs": [
        {
          "output_type": "stream",
          "name": "stdout",
          "text": [
            "Enter the first string: cat\n",
            "Enter the second string: act\n",
            "The strings are anagrams.\n",
            "Enter the first string: Cat\n",
            "Enter the second string: Act\n",
            "Given strings are Anagrams\n"
          ]
        }
      ]
    },
    {
      "cell_type": "markdown",
      "source": [
        "29. Write a Python program to remove all special characters from a string except alphabets and numbers."
      ],
      "metadata": {
        "id": "K4XOdfiqUI61"
      }
    },
    {
      "cell_type": "code",
      "source": [
        "string = input(\"Enter a string: \")\n",
        "\n",
        "result_str =\"\"\n",
        "\n",
        "for char in string:\n",
        "  if char.isalnum():\n",
        "    result_str += char\n",
        "\n",
        "print(\"Result string is \",result_str)"
      ],
      "metadata": {
        "colab": {
          "base_uri": "https://localhost:8080/"
        },
        "id": "ryTC52qiULnl",
        "outputId": "538f1cd4-24f8-449e-ba3f-087d4f28f53f"
      },
      "execution_count": 3,
      "outputs": [
        {
          "output_type": "stream",
          "name": "stdout",
          "text": [
            "Enter a string: EMER%$GIO Ga*mes123\n",
            "Result string is  EMERGIOGames123\n"
          ]
        }
      ]
    },
    {
      "cell_type": "markdown",
      "source": [
        "30. Write a Python program to find the smallest and largest character in a string."
      ],
      "metadata": {
        "id": "ZyXXhbDcVfl_"
      }
    },
    {
      "cell_type": "code",
      "source": [
        "string = input(\"Enter a string: \")\n",
        "\n",
        "if not string:\n",
        "    print(\"Empty string.\")\n",
        "else:\n",
        "    smallest_char = string[0]\n",
        "    largest_char = string[0]\n",
        "\n",
        "    for char in string:\n",
        "        if char < smallest_char:\n",
        "            smallest_char = char\n",
        "        if char > largest_char:\n",
        "            largest_char = char\n",
        "\n",
        "    print(\"Smallest character:\", smallest_char)\n",
        "    print(\"Largest character:\", largest_char)\n"
      ],
      "metadata": {
        "colab": {
          "base_uri": "https://localhost:8080/"
        },
        "id": "qru0PO6qVjDX",
        "outputId": "b3f437e7-0fe6-4ed4-d370-fbc8387e9c81"
      },
      "execution_count": 5,
      "outputs": [
        {
          "output_type": "stream",
          "name": "stdout",
          "text": [
            "Enter a string: education\n",
            "Smallest character: a\n",
            "Largest character: u\n"
          ]
        }
      ]
    }
  ]
}