{
  "nbformat": 4,
  "nbformat_minor": 0,
  "metadata": {
    "colab": {
      "provenance": [],
      "authorship_tag": "ABX9TyOdvmoM/4hzgj5bzVmHw6+E",
      "include_colab_link": true
    },
    "kernelspec": {
      "name": "python3",
      "display_name": "Python 3"
    },
    "language_info": {
      "name": "python"
    }
  },
  "cells": [
    {
      "cell_type": "markdown",
      "metadata": {
        "id": "view-in-github",
        "colab_type": "text"
      },
      "source": [
        "<a href=\"https://colab.research.google.com/github/muhammedafsalpm/Emergio_Games_Training/blob/main/Emergio_Games__14_08_24_Day_3_ipynb.ipynb\" target=\"_parent\"><img src=\"https://colab.research.google.com/assets/colab-badge.svg\" alt=\"Open In Colab\"/></a>"
      ]
    },
    {
      "cell_type": "markdown",
      "source": [
        "1. Write a Python program to check if a number is positive, negative, or zero."
      ],
      "metadata": {
        "id": "yMMy722xG2wo"
      }
    },
    {
      "cell_type": "code",
      "execution_count": 31,
      "metadata": {
        "colab": {
          "base_uri": "https://localhost:8080/"
        },
        "id": "FrTijbx8GqhQ",
        "outputId": "c28ee9cd-c6e9-4944-ea93-f9a145505759"
      },
      "outputs": [
        {
          "output_type": "stream",
          "name": "stdout",
          "text": [
            "Enter a number : -5\n",
            "-5  is negative number\n"
          ]
        }
      ],
      "source": [
        "n = int(input(\"Enter a number : \"))\n",
        "\n",
        "if n>0:\n",
        "  print(n,\" is positive number\")\n",
        "elif n<0:\n",
        "  print(n,\" is negative number\")\n",
        "else:\n",
        "  print(\"Entered number is Zero\")\n",
        "\n"
      ]
    },
    {
      "cell_type": "markdown",
      "source": [
        "2. Write a Python program to check if a number is even or odd."
      ],
      "metadata": {
        "id": "mB-R_V10ITfi"
      }
    },
    {
      "cell_type": "code",
      "source": [
        "n = int(input(\"Enter a number : \"))\n",
        "\n",
        "if n%2==0:\n",
        "  print(n,\" is an even number\")\n",
        "else:\n",
        "  print(n,\" is an odd number\")\n"
      ],
      "metadata": {
        "colab": {
          "base_uri": "https://localhost:8080/"
        },
        "id": "WfgVjRYoIWTx",
        "outputId": "36e06255-3362-4756-fecc-24fdfd6af0be"
      },
      "execution_count": 32,
      "outputs": [
        {
          "output_type": "stream",
          "name": "stdout",
          "text": [
            "Enter a number : 97\n",
            "97  is an odd number\n"
          ]
        }
      ]
    },
    {
      "cell_type": "markdown",
      "source": [
        "3. Write a Python program to find the largest of three numbers."
      ],
      "metadata": {
        "id": "I1UtkDNPIyCS"
      }
    },
    {
      "cell_type": "code",
      "source": [
        "num1 = int(input(\"Enter first number : \"))\n",
        "num2 = int(input(\"Enter second number : \"))\n",
        "num3 = int(input(\"Enter third number : \"))\n",
        "\n",
        "if num1>=num2 and num1>=num3:\n",
        "  print(num1,\" is largest\")\n",
        "elif num2>=num1 and num2>=num3:\n",
        "  print(num2,\" is largest\")\n",
        "else:\n",
        "  print(num3,\" is largest\")\n",
        "\n"
      ],
      "metadata": {
        "colab": {
          "base_uri": "https://localhost:8080/"
        },
        "id": "ExnmLuozI0nZ",
        "outputId": "5f2a406b-0331-4e5d-ce72-91672beb8b09"
      },
      "execution_count": 33,
      "outputs": [
        {
          "output_type": "stream",
          "name": "stdout",
          "text": [
            "Enter first number : 8\n",
            "Enter second number : 45\n",
            "Enter third number : 38\n",
            "45  is largest\n"
          ]
        }
      ]
    },
    {
      "cell_type": "markdown",
      "source": [
        "4. Write a Python program to check if a character is a vowel or consonant."
      ],
      "metadata": {
        "id": "3hfr2ULqKlVD"
      }
    },
    {
      "cell_type": "code",
      "source": [
        "char = input(\"Enter a character: \")\n",
        "\n",
        "vowels = 'aeiouAEIOU'\n",
        "if char in vowels:\n",
        "  print(char, \"is a vowel\")\n",
        "else:\n",
        "  print(char, \"is a consonant\")\n"
      ],
      "metadata": {
        "colab": {
          "base_uri": "https://localhost:8080/"
        },
        "id": "7IBigpviKoFi",
        "outputId": "acd1d9de-810e-47fa-b9d7-eb69a81ab337"
      },
      "execution_count": 34,
      "outputs": [
        {
          "output_type": "stream",
          "name": "stdout",
          "text": [
            "Enter a character: E\n",
            "E is a vowel\n"
          ]
        }
      ]
    },
    {
      "cell_type": "markdown",
      "source": [
        "5. Write a Python program to check if a year is a leap year."
      ],
      "metadata": {
        "id": "IzQ7Hg5_K1SL"
      }
    },
    {
      "cell_type": "code",
      "source": [
        "year = int(input(\"Enter a year: \"))\n",
        "\n",
        "if (year % 4 == 0 and year % 100 != 0) or (year % 400 == 0):\n",
        "  print(year, \"is a leap year\")\n",
        "else:\n",
        "  print(year, \"is not a leap year\")\n"
      ],
      "metadata": {
        "colab": {
          "base_uri": "https://localhost:8080/"
        },
        "id": "uqe0359BK9He",
        "outputId": "08102727-25d7-4a71-dd0d-9666678aa5bd"
      },
      "execution_count": 35,
      "outputs": [
        {
          "output_type": "stream",
          "name": "stdout",
          "text": [
            "Enter a year: 2024\n",
            "2024 is a leap year\n"
          ]
        }
      ]
    },
    {
      "cell_type": "markdown",
      "source": [
        "6. Write a Python program to find the smallest of three numbers."
      ],
      "metadata": {
        "id": "-h0IbheBLHzl"
      }
    },
    {
      "cell_type": "code",
      "source": [
        "num1 = int(input(\"Enter first number : \"))\n",
        "num2 = int(input(\"Enter second number : \"))\n",
        "num3 = int(input(\"Enter third number : \"))\n",
        "\n",
        "if num1<=num2 and num1<=num3:\n",
        "  print(num1,\" is Smallest\")\n",
        "elif num2<=num1 and num2<=num3:\n",
        "  print(num2,\" is Smallest\")\n",
        "else:\n",
        "  print(num3,\" is Smallest\")"
      ],
      "metadata": {
        "colab": {
          "base_uri": "https://localhost:8080/"
        },
        "id": "kB8RTVn4LJgN",
        "outputId": "45fb440c-edb6-4de8-f5d0-9714b97511f9"
      },
      "execution_count": 36,
      "outputs": [
        {
          "output_type": "stream",
          "name": "stdout",
          "text": [
            "Enter first number : 8\n",
            "Enter second number : 9\n",
            "Enter third number : 3\n",
            "3  is Smallest\n"
          ]
        }
      ]
    },
    {
      "cell_type": "markdown",
      "source": [
        "7. Write a Python program to check if a person is eligible to vote based on age."
      ],
      "metadata": {
        "id": "wZcPjXJ9MtB2"
      }
    },
    {
      "cell_type": "code",
      "source": [
        "age = int(input(\"Enter the Age : \"))\n",
        "\n",
        "if age>=18:\n",
        "  print(\"Person is eligible to vote\")\n",
        "else:\n",
        "  print(\"Person is Not eligible to vote\")"
      ],
      "metadata": {
        "colab": {
          "base_uri": "https://localhost:8080/"
        },
        "id": "Y8DSCqChMvRN",
        "outputId": "8535bf9a-d21a-4ebc-d245-d19ec5733424"
      },
      "execution_count": 38,
      "outputs": [
        {
          "output_type": "stream",
          "name": "stdout",
          "text": [
            "Enter the Age : 15\n",
            "Person is Not eligible to vote\n"
          ]
        }
      ]
    },
    {
      "cell_type": "markdown",
      "source": [
        "8. Write a Python program to determine the grade of a student based on marks."
      ],
      "metadata": {
        "id": "wsgefhjJN1zk"
      }
    },
    {
      "cell_type": "code",
      "source": [
        "marks = float(input(\"Enter the student's marks: \"))\n",
        "\n",
        "if marks >= 90:\n",
        "  grade = 'A'\n",
        "elif marks >= 80:\n",
        "  grade = 'B'\n",
        "elif marks >= 70:\n",
        "  grade = 'C'\n",
        "elif marks >= 60:\n",
        "  grade = 'D'\n",
        "else:\n",
        "  grade = 'F'\n",
        "\n",
        "print(\"The student's grade is:\", grade)"
      ],
      "metadata": {
        "colab": {
          "base_uri": "https://localhost:8080/"
        },
        "id": "qgxkKhvhN310",
        "outputId": "6e4441e6-3295-4ea6-c690-87920cc2fba9"
      },
      "execution_count": 39,
      "outputs": [
        {
          "output_type": "stream",
          "name": "stdout",
          "text": [
            "Enter the student's marks: 73\n",
            "The student's grade is: C\n"
          ]
        }
      ]
    },
    {
      "cell_type": "markdown",
      "source": [
        "9. Write a Python program to check if a number is divisible by 5 and 11."
      ],
      "metadata": {
        "id": "biK0lTQ-OTfb"
      }
    },
    {
      "cell_type": "code",
      "source": [
        "num = int(input(\"Enter a number: \"))\n",
        "\n",
        "if num % 5 == 0 and num % 11 == 0:\n",
        "  print(num, \"is divisible by both 5 and 11\")\n",
        "else:\n",
        "  print(num, \"is not divisible by both 5 and 11\")\n"
      ],
      "metadata": {
        "colab": {
          "base_uri": "https://localhost:8080/"
        },
        "id": "I_IWSseHOV47",
        "outputId": "1009d895-c6e8-4841-a01b-0add2f1ba19e"
      },
      "execution_count": 41,
      "outputs": [
        {
          "output_type": "stream",
          "name": "stdout",
          "text": [
            "Enter a number: 95\n",
            "95 is not divisible by both 5 and 11\n"
          ]
        }
      ]
    },
    {
      "cell_type": "markdown",
      "source": [
        "10. Write a Python program to check if a character is an alphabet, digit, or special character."
      ],
      "metadata": {
        "id": "hByV-tSZOnUf"
      }
    },
    {
      "cell_type": "code",
      "source": [
        "char = input(\"Enter a character: \")\n",
        "\n",
        "if char.isalpha():\n",
        "  print(char, \"is an alphabet\")\n",
        "elif char.isdigit():\n",
        "  print(char, \"is a digit\")\n",
        "else:\n",
        "  print(char, \"is a special character\")\n"
      ],
      "metadata": {
        "colab": {
          "base_uri": "https://localhost:8080/"
        },
        "id": "8yeCcQNBOp7_",
        "outputId": "7b9fc932-e770-452b-b793-a7642338e485"
      },
      "execution_count": 44,
      "outputs": [
        {
          "output_type": "stream",
          "name": "stdout",
          "text": [
            "Enter a character: %\n",
            "% is a special character\n"
          ]
        }
      ]
    },
    {
      "cell_type": "markdown",
      "source": [
        "11. Write a Python program to find the absolute value of a number."
      ],
      "metadata": {
        "id": "gfmczU5EOzcI"
      }
    },
    {
      "cell_type": "code",
      "source": [
        "num = float(input(\"Enter a number: \"))\n",
        "\n",
        "absolute_value = abs(num)\n",
        "\n",
        "print(\"The absolute value of\", num, \"is\", absolute_value)\n"
      ],
      "metadata": {
        "colab": {
          "base_uri": "https://localhost:8080/"
        },
        "id": "k2JPQwM_O1og",
        "outputId": "d52b8cb5-871c-40b6-c2be-7f86285d925b"
      },
      "execution_count": 45,
      "outputs": [
        {
          "output_type": "stream",
          "name": "stdout",
          "text": [
            "Enter a number: -7\n",
            "The absolute value of -7.0 is 7.0\n"
          ]
        }
      ]
    },
    {
      "cell_type": "markdown",
      "source": [
        "12. Write a Python program to compare two numbers and display which one is greater."
      ],
      "metadata": {
        "id": "JZnXOi2qPM_S"
      }
    },
    {
      "cell_type": "code",
      "source": [
        "num1 = float(input(\"Enter the first number: \"))\n",
        "num2 = float(input(\"Enter the second number: \"))\n",
        "\n",
        "if num1 > num2:\n",
        "  print(num1, \"is greater than\", num2)\n",
        "elif num2 > num1:\n",
        "  print(num2, \"is greater than\", num1)\n",
        "else:\n",
        "  print(num1, \"and\", num2, \"are equal\")\n"
      ],
      "metadata": {
        "colab": {
          "base_uri": "https://localhost:8080/"
        },
        "id": "kMItJiqOPPVR",
        "outputId": "c5beeae7-884b-471a-ad9b-e039a95dfb4b"
      },
      "execution_count": 46,
      "outputs": [
        {
          "output_type": "stream",
          "name": "stdout",
          "text": [
            "Enter the first number: 31\n",
            "Enter the second number: 25\n",
            "31.0 is greater than 25.0\n"
          ]
        }
      ]
    },
    {
      "cell_type": "markdown",
      "source": [
        "13. Write a Python program to check if a string is empty or not."
      ],
      "metadata": {
        "id": "1JZWBdBOPZga"
      }
    },
    {
      "cell_type": "code",
      "source": [
        "my_string = input(\"Enter a string: \")\n",
        "\n",
        "if my_string:\n",
        "  print(\"The string is not empty\")\n",
        "else:\n",
        "  print(\"The string is empty\")\n"
      ],
      "metadata": {
        "colab": {
          "base_uri": "https://localhost:8080/"
        },
        "id": "mYGaWLqbPbup",
        "outputId": "290e45ad-e39f-4374-a34e-c59cfbf13d67"
      },
      "execution_count": 47,
      "outputs": [
        {
          "output_type": "stream",
          "name": "stdout",
          "text": [
            "Enter a string: \n",
            "The string is empty\n"
          ]
        }
      ]
    },
    {
      "cell_type": "markdown",
      "source": [
        "14. Write a Python program to check if a given number is within a specified range."
      ],
      "metadata": {
        "id": "YWv-xXAWPmXf"
      }
    },
    {
      "cell_type": "code",
      "source": [
        "num = float(input(\"Enter a number: \"))\n",
        "lower_bound = float(input(\"Enter the lower bound of the range: \"))\n",
        "upper_bound = float(input(\"Enter the upper bound of the range: \"))\n",
        "\n",
        "if lower_bound <= num <= upper_bound:\n",
        "  print(num, \"is within the range\", lower_bound, \"to\", upper_bound)\n",
        "else:\n",
        "  print(num, \"is outside the range\", lower_bound, \"to\", upper_bound)\n"
      ],
      "metadata": {
        "colab": {
          "base_uri": "https://localhost:8080/"
        },
        "id": "odfgP--6Pog3",
        "outputId": "decaffb6-cda1-4278-ef85-a05677e86296"
      },
      "execution_count": 48,
      "outputs": [
        {
          "output_type": "stream",
          "name": "stdout",
          "text": [
            "Enter a number: 115\n",
            "Enter the lower bound of the range: 100\n",
            "Enter the upper bound of the range: 150\n",
            "115.0 is within the range 100.0 to 150.0\n"
          ]
        }
      ]
    },
    {
      "cell_type": "markdown",
      "source": [
        "15. Write a Python program to convert temperature from Celsius to Fahrenheit and vice versa."
      ],
      "metadata": {
        "id": "MoVqGxIcP455"
      }
    },
    {
      "cell_type": "code",
      "source": [
        "temp = input(\"Enter C to convert from Celsius to Fahrenheit or F to convert from Fahrenheit to Celsius: \")\n",
        "\n",
        "if temp == 'C':\n",
        "  celsius = float(input(\"Enter temperature in Celsius: \"))\n",
        "  fahrenheit = (celsius * 9/5) + 32\n",
        "  print(celsius, \"degrees Celsius is equal to\", fahrenheit, \"degrees Fahrenheit\")\n",
        "elif temp == 'F':\n",
        "  fahrenheit = float(input(\"Enter temperature in Fahrenheit: \"))\n",
        "  celsius = (fahrenheit - 32) * 5/9\n",
        "  print(fahrenheit, \"degrees Fahrenheit is equal to\", celsius, \"degrees Celsius\")\n",
        "else:\n",
        "  print(\"Invalid choice\")\n"
      ],
      "metadata": {
        "colab": {
          "base_uri": "https://localhost:8080/"
        },
        "id": "eDtRLFqKQKjI",
        "outputId": "42743ff3-7382-452b-e4b0-52c71633c5b8"
      },
      "execution_count": 50,
      "outputs": [
        {
          "output_type": "stream",
          "name": "stdout",
          "text": [
            "Enter C to convert from Celsius to Fahrenheit or F to convert from Fahrenheit to Celsius: F\n",
            "Enter temperature in Fahrenheit: 96\n",
            "96.0 degrees Fahrenheit is equal to 35.55555555555556 degrees Celsius\n"
          ]
        }
      ]
    },
    {
      "cell_type": "markdown",
      "source": [
        "16. Write a Python program to check if a number is a multiple of 3 or 7."
      ],
      "metadata": {
        "id": "dyBVo5a5Re8Z"
      }
    },
    {
      "cell_type": "code",
      "source": [
        "num = int(input(\"Enter a number: \"))\n",
        "\n",
        "if num % 3 == 0 or num % 7 == 0:\n",
        "  print(num, \"is a multiple of 3 or 7\")\n",
        "else:\n",
        "  print(num, \"is not a multiple of 3 or 7\")\n"
      ],
      "metadata": {
        "colab": {
          "base_uri": "https://localhost:8080/"
        },
        "id": "v6Ivh49xRhO5",
        "outputId": "bedcdb58-d982-4a88-ae4a-dd76a0daa374"
      },
      "execution_count": 52,
      "outputs": [
        {
          "output_type": "stream",
          "name": "stdout",
          "text": [
            "Enter a number: 18\n",
            "18 is a multiple of 3 or 7\n"
          ]
        }
      ]
    },
    {
      "cell_type": "markdown",
      "source": [
        "17. Write a Python program to check if a number is a prime number."
      ],
      "metadata": {
        "id": "0YBElMgjR4Fi"
      }
    },
    {
      "cell_type": "code",
      "source": [
        "number = int(input(\"Enter a number: \"))\n",
        "\n",
        "if number <= 1:\n",
        "  print(number, \"is not a prime number\")\n",
        "elif number <= 3:\n",
        "  print(number, \"is a prime number\")\n",
        "elif number % 2 == 0 or number % 3 == 0:\n",
        "  print(number, \"is not a prime number\")\n",
        "else:\n",
        "  i = 5\n",
        "  while i * i <= number:\n",
        "    if number % i == 0 or number % (i + 2) == 0:\n",
        "      print(number, \"is not a prime number\")\n",
        "      break\n",
        "  else:\n",
        "    print(number, \"is a prime number\")\n"
      ],
      "metadata": {
        "colab": {
          "base_uri": "https://localhost:8080/"
        },
        "id": "oDJNuwgbR6kT",
        "outputId": "8cddd14f-e3b8-4396-aa10-3ffa98dd14c8"
      },
      "execution_count": 53,
      "outputs": [
        {
          "output_type": "stream",
          "name": "stdout",
          "text": [
            "Enter a number: 2\n",
            "2 is a prime number\n"
          ]
        }
      ]
    },
    {
      "cell_type": "markdown",
      "source": [
        "18. Write a Python program to check if a string is a palindrome."
      ],
      "metadata": {
        "id": "wY9_eSHwSQ-k"
      }
    },
    {
      "cell_type": "code",
      "source": [
        "string = input(\"Enter the String : \")\n",
        "\n",
        "if(string.lower()==string[::-1].lower()):\n",
        "  print(\"Entered string is palindrome\")\n",
        "else:\n",
        "  print(\"Entered String is not palindrome\")"
      ],
      "metadata": {
        "colab": {
          "base_uri": "https://localhost:8080/"
        },
        "id": "l7dEC-k6SodS",
        "outputId": "c2a2dfdf-33ac-4e17-c3e1-625d7279fc22"
      },
      "execution_count": 56,
      "outputs": [
        {
          "output_type": "stream",
          "name": "stdout",
          "text": [
            "Enter the String : Malayalam\n",
            "Entered string is palindrome\n"
          ]
        }
      ]
    },
    {
      "cell_type": "markdown",
      "source": [
        "19. Write a Python program to find the sum of two numbers and check if the sum is even or odd."
      ],
      "metadata": {
        "id": "wJVURTV5TK98"
      }
    },
    {
      "cell_type": "code",
      "source": [
        "num1 = int(input(\"Enter the first number : \"))\n",
        "num2 = int(input(\"Enter the second number : \"))\n",
        "\n",
        "sum = num1+num2\n",
        "print(\"Sum is\",sum)\n",
        "if sum%2==0:\n",
        "  print(sum,\"is even number\")\n",
        "else:\n",
        "  print(sum,\"is odd number\")"
      ],
      "metadata": {
        "colab": {
          "base_uri": "https://localhost:8080/"
        },
        "id": "_KuXCF-vTNAs",
        "outputId": "77b2669b-9894-4402-9ae6-ebba9fd6289d"
      },
      "execution_count": 58,
      "outputs": [
        {
          "output_type": "stream",
          "name": "stdout",
          "text": [
            "Enter the first number : 8\n",
            "Enter the second number : 16\n",
            "Sum is 24\n",
            "24 is even number\n"
          ]
        }
      ]
    },
    {
      "cell_type": "markdown",
      "source": [
        "20. Write a Python program to check if a triangle is equilateral, isosceles, or scalene."
      ],
      "metadata": {
        "id": "T3--FUW4UBQ1"
      }
    },
    {
      "cell_type": "code",
      "source": [
        "side1 = float(input(\"Enter the length of the first side: \"))\n",
        "side2 = float(input(\"Enter the length of the second side: \"))\n",
        "side3 = float(input(\"Enter the length of the third side: \"))\n",
        "\n",
        "if side1 == side2 == side3:\n",
        "  print(\"Equilateral triangle\")\n",
        "elif side1 == side2 or side1 == side3 or side2 == side3:\n",
        "  print(\"Isosceles triangle\")\n",
        "else:\n",
        "  print(\"Scalene triangle\")\n"
      ],
      "metadata": {
        "colab": {
          "base_uri": "https://localhost:8080/"
        },
        "id": "1gfTgyLnUDRt",
        "outputId": "86258888-4e52-4b3f-d8d3-36d7dcf32230"
      },
      "execution_count": 59,
      "outputs": [
        {
          "output_type": "stream",
          "name": "stdout",
          "text": [
            "Enter the length of the first side: 15\n",
            "Enter the length of the second side: 14\n",
            "Enter the length of the third side: 10\n",
            "Scalene triangle\n"
          ]
        }
      ]
    },
    {
      "cell_type": "markdown",
      "source": [
        "21. Write a Python program to find the roots of a quadratic equation."
      ],
      "metadata": {
        "id": "8O-1yrrqUSBV"
      }
    },
    {
      "cell_type": "code",
      "source": [
        "import math\n",
        "\n",
        "a = float(input(\"Enter the coefficient of x^2: \"))\n",
        "b = float(input(\"Enter the coefficient of x: \"))\n",
        "c = float(input(\"Enter the constant term: \"))\n",
        "\n",
        "discriminant = b**2 - 4 * a * c\n",
        "\n",
        "if discriminant > 0:\n",
        "  root1 = (-b + math.sqrt(discriminant)) / (2 * a)\n",
        "  root2 = (-b - math.sqrt(discriminant)) / (2 * a)\n",
        "  print(\"The roots are real and distinct:\", root1, \"and\", root2)\n",
        "elif discriminant == 0:\n",
        "  root = -b / (2 * a)\n",
        "  print(\"The roots are real and equal:\", root)\n",
        "else:\n",
        "  real_part = -b / (2 * a)\n",
        "  imaginary_part = math.sqrt(abs(discriminant)) / (2 * a)\n",
        "  print(\"The roots are complex:\", complex(real_part, imaginary_part), \"and\", complex(real_part, -imaginary_part))\n"
      ],
      "metadata": {
        "colab": {
          "base_uri": "https://localhost:8080/"
        },
        "id": "7HG2wT--UUld",
        "outputId": "ba914724-a09c-4e80-8819-e1d28682ab83"
      },
      "execution_count": 60,
      "outputs": [
        {
          "output_type": "stream",
          "name": "stdout",
          "text": [
            "Enter the coefficient of x^2: 5\n",
            "Enter the coefficient of x: 3\n",
            "Enter the constant term: 1\n",
            "The roots are complex: (-0.3+0.33166247903553997j) and (-0.3-0.33166247903553997j)\n"
          ]
        }
      ]
    },
    {
      "cell_type": "markdown",
      "source": [
        "22. Write a Python program to check if a number is an Armstrong number."
      ],
      "metadata": {
        "id": "muZsupkkVEMW"
      }
    },
    {
      "cell_type": "code",
      "source": [
        "number = int(input(\"Enter a number: \"))\n",
        "\n",
        "num_digits = len(str(number))\n",
        "sum_of_powers = 0\n",
        "temp = number\n",
        "\n",
        "while temp > 0:\n",
        "  digit = temp % 10\n",
        "  sum_of_powers += digit ** num_digits\n",
        "  temp //= 10\n",
        "\n",
        "if sum_of_powers == number:\n",
        "  print(number, \"is an Armstrong number\")\n",
        "else:\n",
        "  print(number, \"is not an Armstrong number\")\n"
      ],
      "metadata": {
        "colab": {
          "base_uri": "https://localhost:8080/"
        },
        "id": "HkB4hYSYVLqu",
        "outputId": "e60aabf6-bbd9-49f0-8b6f-d2475bb93d54"
      },
      "execution_count": 61,
      "outputs": [
        {
          "output_type": "stream",
          "name": "stdout",
          "text": [
            "Enter a number: 15\n",
            "15 is not an Armstrong number\n"
          ]
        }
      ]
    },
    {
      "cell_type": "markdown",
      "source": [
        "23. Write a Python program to check if a number is a perfect number."
      ],
      "metadata": {
        "id": "i5pDCxnKVcQG"
      }
    },
    {
      "cell_type": "code",
      "source": [
        "number = int(input(\"Enter a number: \"))\n",
        "\n",
        "sum_of_divisors = 1\n",
        "for i in range(2, int(number**0.5) + 1):\n",
        "  if number % i == 0:\n",
        "    sum_of_divisors += i + number // i\n",
        "\n",
        "if sum_of_divisors == number:\n",
        "  print(number, \"is a perfect number\")\n",
        "else:\n",
        "  print(number, \"is not a perfect number\")\n"
      ],
      "metadata": {
        "colab": {
          "base_uri": "https://localhost:8080/"
        },
        "id": "ijoKaEQ_VeTK",
        "outputId": "029ef5d7-e129-41e5-ffc8-7c67cc40b1b6"
      },
      "execution_count": 63,
      "outputs": [
        {
          "output_type": "stream",
          "name": "stdout",
          "text": [
            "Enter a number: 28\n",
            "28 is a perfect number\n"
          ]
        }
      ]
    },
    {
      "cell_type": "markdown",
      "source": [
        "24. Write a Python program to check if a number is a palindrome."
      ],
      "metadata": {
        "id": "zor14hT0V1lF"
      }
    },
    {
      "cell_type": "code",
      "source": [
        "number = int(input(\"Enter a number: \"))\n",
        "\n",
        "reversed_number = 0\n",
        "temp = number\n",
        "\n",
        "while temp > 0:\n",
        "  digit = temp % 10\n",
        "  reversed_number = reversed_number * 10 + digit\n",
        "  temp //= 10\n",
        "\n",
        "if number == reversed_number:\n",
        "  print(number, \"is a palindrome\")\n",
        "else:\n",
        "  print(number, \"is not a palindrome\")\n"
      ],
      "metadata": {
        "colab": {
          "base_uri": "https://localhost:8080/"
        },
        "id": "cFlfPRc-V-2b",
        "outputId": "fa0c9c95-3c8e-4ce3-a9e4-da5130704feb"
      },
      "execution_count": 64,
      "outputs": [
        {
          "output_type": "stream",
          "name": "stdout",
          "text": [
            "Enter a number: 131\n",
            "131 is a palindrome\n"
          ]
        }
      ]
    },
    {
      "cell_type": "markdown",
      "source": [
        "25. Write a Python program to calculate the factorial of a number."
      ],
      "metadata": {
        "id": "3hGb-myPV9Vs"
      }
    },
    {
      "cell_type": "code",
      "source": [
        "number = int(input(\"Enter a number: \"))\n",
        "\n",
        "factorial = 1\n",
        "for i in range(1, number + 1):\n",
        "  factorial *= i\n",
        "\n",
        "print(\"The factorial of\", number, \"is\", factorial)\n"
      ],
      "metadata": {
        "colab": {
          "base_uri": "https://localhost:8080/"
        },
        "id": "kJMUSLMKWT83",
        "outputId": "81203e80-68bc-44cf-acd6-acde3accc133"
      },
      "execution_count": 65,
      "outputs": [
        {
          "output_type": "stream",
          "name": "stdout",
          "text": [
            "Enter a number: 8\n",
            "The factorial of 8 is 40320\n"
          ]
        }
      ]
    },
    {
      "cell_type": "markdown",
      "source": [
        "26. Write a Python program to calculate the electricity bill based on unit consumption."
      ],
      "metadata": {
        "id": "VvmEuJoTV4OO"
      }
    },
    {
      "cell_type": "code",
      "source": [
        "units = int(input(\"Enter the total units consumed: \"))\n",
        "\n",
        "if units <= 100:\n",
        "  bill = units * 4.5\n",
        "elif units <= 200:\n",
        "  bill = 100 * 4.5 + (units - 100) * 6\n",
        "elif units <= 300:\n",
        "  bill = 100 * 4.5 + 100 * 6 + (units - 200) * 10\n",
        "else:\n",
        "  bill = 100 * 4.5 + 100 * 6 + 100 * 10 + (units - 300) * 20\n",
        "\n",
        "print(\"Total electricity bill:\", bill)\n"
      ],
      "metadata": {
        "colab": {
          "base_uri": "https://localhost:8080/"
        },
        "id": "vyfN4OJQWdq3",
        "outputId": "6f488da2-da82-4632-b63f-0cf4923de66b"
      },
      "execution_count": 66,
      "outputs": [
        {
          "output_type": "stream",
          "name": "stdout",
          "text": [
            "Enter the total units consumed: 18\n",
            "Total electricity bill: 81.0\n"
          ]
        }
      ]
    },
    {
      "cell_type": "markdown",
      "source": [
        "27. Write a Python program to check if a number is a strong number."
      ],
      "metadata": {
        "id": "ICIG4GSeWzHA"
      }
    },
    {
      "cell_type": "code",
      "source": [
        "import math\n",
        "\n",
        "number = int(input(\"Enter a number: \"))\n",
        "\n",
        "temp = number\n",
        "sum_of_factorials = 0\n",
        "\n",
        "while temp > 0:\n",
        "  digit = temp % 10\n",
        "  factorial = math.factorial(digit)\n",
        "  sum_of_factorials += factorial\n",
        "  temp //= 10\n",
        "\n",
        "if sum_of_factorials == number:\n",
        "  print(number, \"is a strong number\")\n",
        "else:\n",
        "  print(number, \"is not a strong number\")\n",
        "\n"
      ],
      "metadata": {
        "colab": {
          "base_uri": "https://localhost:8080/"
        },
        "id": "i_9eyu_JW02A",
        "outputId": "8bbc5c91-0287-4347-9165-8d531a8bde62"
      },
      "execution_count": 67,
      "outputs": [
        {
          "output_type": "stream",
          "name": "stdout",
          "text": [
            "Enter a number: 145\n",
            "145 is a strong number\n"
          ]
        }
      ]
    },
    {
      "cell_type": "markdown",
      "source": [
        "28. Write a Python program to find the sum of digits of a number and check if the sum is prime."
      ],
      "metadata": {
        "id": "3L9XWRTUXR6g"
      }
    },
    {
      "cell_type": "code",
      "source": [
        "number = int(input(\"Enter a number: \"))\n",
        "\n",
        "sum_of_digits = 0\n",
        "temp = number\n",
        "\n",
        "while temp > 0:\n",
        "    digit = temp % 10\n",
        "    sum_of_digits += digit\n",
        "    temp //= 10\n",
        "\n",
        "\n",
        "is_prime = True\n",
        "if sum_of_digits <= 1:\n",
        "    is_prime = False\n",
        "elif sum_of_digits <= 3:\n",
        "    is_prime = True\n",
        "elif sum_of_digits % 2 == 0 or sum_of_digits % 3 == 0:\n",
        "    is_prime = False\n",
        "else:\n",
        "    i = 5\n",
        "    while i * i <= sum_of_digits:\n",
        "        if sum_of_digits % i == 0 or sum_of_digits % (i + 2) == 0:\n",
        "            is_prime = False\n",
        "            break\n",
        "        i += 6\n",
        "\n",
        "print(\"Sum of digits:\", sum_of_digits)\n",
        "if is_prime:\n",
        "    print(\"Sum of digits is prime\")\n",
        "else:\n",
        "    print(\"Sum of digits is not prime\")\n"
      ],
      "metadata": {
        "colab": {
          "base_uri": "https://localhost:8080/"
        },
        "id": "IxU97ONAXYZQ",
        "outputId": "9072ca59-3c07-4605-97eb-3ad9a071982e"
      },
      "execution_count": 69,
      "outputs": [
        {
          "output_type": "stream",
          "name": "stdout",
          "text": [
            "Enter a number: 164\n",
            "Sum of digits: 11\n",
            "Sum of digits is prime\n"
          ]
        }
      ]
    },
    {
      "cell_type": "markdown",
      "source": [
        "29. Write a Python program to determine the type of triangle based on side lengths."
      ],
      "metadata": {
        "id": "ZsSIoMJnXk1Z"
      }
    },
    {
      "cell_type": "code",
      "source": [
        "side1 = float(input(\"Enter the length of the first side: \"))\n",
        "side2 = float(input(\"Enter the length of the second side: \"))\n",
        "side3 = float(input(\"Enter the length of the third side: \"))\n",
        "\n",
        "if side1 <= 0 or side2 <= 0 or side3 <= 0:\n",
        "    print(\"Invalid side lengths. All sides must be positive.\")\n",
        "elif side1 + side2 <= side3 or side1 + side3 <= side2 or side2 + side3 <= side1:\n",
        "    print(\"Invalid side lengths. The sum of any two sides must be greater than the third side.\")\n",
        "else:\n",
        "    if side1 == side2 == side3:\n",
        "        print(\"Equilateral triangle\")\n",
        "    elif side1 == side2 or side1 == side3 or side2 == side3:\n",
        "        print(\"Isosceles triangle\")\n",
        "    else:\n",
        "        print(\"Scalene triangle\")\n"
      ],
      "metadata": {
        "colab": {
          "base_uri": "https://localhost:8080/"
        },
        "id": "6yvWwgnNXqNA",
        "outputId": "c49ede80-a9ee-42bb-e0b2-721ac213cacd"
      },
      "execution_count": 72,
      "outputs": [
        {
          "output_type": "stream",
          "name": "stdout",
          "text": [
            "Enter the length of the first side: 5\n",
            "Enter the length of the second side: 8\n",
            "Enter the length of the third side: 8\n",
            "Isosceles triangle\n"
          ]
        }
      ]
    },
    {
      "cell_type": "markdown",
      "source": [
        "30. Write a Python program to find the greatest common divisor (GCD) of two numbers."
      ],
      "metadata": {
        "id": "ciT_X__cX4dx"
      }
    },
    {
      "cell_type": "code",
      "source": [
        "num1 = int(input(\"Enter the first number: \"))\n",
        "num2 = int(input(\"Enter the second number: \"))\n",
        "\n",
        "while num2 != 0:\n",
        "  num1, num2 = num2, num1 % num2\n",
        "\n",
        "print(\"The GCD of\", num1, \"and\", num2, \"is\", num1)"
      ],
      "metadata": {
        "colab": {
          "base_uri": "https://localhost:8080/"
        },
        "id": "8bKX1dgWX6WM",
        "outputId": "6187308a-8d86-4940-d0ba-bccc08876803"
      },
      "execution_count": 74,
      "outputs": [
        {
          "output_type": "stream",
          "name": "stdout",
          "text": [
            "Enter the first number: 5\n",
            "Enter the second number: 8\n",
            "The GCD of 1 and 0 is 1\n"
          ]
        }
      ]
    },
    {
      "cell_type": "markdown",
      "source": [
        "31. Write a Python program to determine the day of the week based on a given date."
      ],
      "metadata": {
        "id": "2NVJcHXWYQ9Q"
      }
    },
    {
      "cell_type": "code",
      "source": [
        "import datetime\n",
        "\n",
        "year = int(input(\"Enter the year: \"))\n",
        "month = int(input(\"Enter the month (1-12): \"))\n",
        "day = int(input(\"Enter the day: \"))\n",
        "\n",
        "date = datetime.date(year, month, day)\n",
        "day_of_week = date.weekday()\n",
        "days = [\"Monday\", \"Tuesday\", \"Wednesday\", \"Thursday\", \"Friday\", \"Saturday\", \"Sunday\"]\n",
        "print(\"The day of the week is:\", days[day_of_week])\n"
      ],
      "metadata": {
        "colab": {
          "base_uri": "https://localhost:8080/"
        },
        "id": "0a6fJnnOYTcR",
        "outputId": "8e03a39a-9d89-4c38-cb10-a45720f8c424"
      },
      "execution_count": 75,
      "outputs": [
        {
          "output_type": "stream",
          "name": "stdout",
          "text": [
            "Enter the year: 2024\n",
            "Enter the month (1-12): 8\n",
            "Enter the day: 14\n",
            "The day of the week is: Wednesday\n"
          ]
        }
      ]
    },
    {
      "cell_type": "markdown",
      "source": [
        "32. Write a Python program to determine the number of days in a given month."
      ],
      "metadata": {
        "id": "q7jwElq1Y5RR"
      }
    },
    {
      "cell_type": "code",
      "source": [
        "import calendar\n",
        "\n",
        "year = int(input(\"Enter the year: \"))\n",
        "month = int(input(\"Enter the month (1-12): \"))\n",
        "\n",
        "if month < 1 or month > 12:\n",
        "    print(\"Invalid month.\")\n",
        "else:\n",
        "    num_days = calendar.monthrange(year, month)[1]\n",
        "    print(\"Number of days in\", month, \"/\", year, \"is\", num_days)\n"
      ],
      "metadata": {
        "colab": {
          "base_uri": "https://localhost:8080/"
        },
        "id": "uZeyIqwwY7Vj",
        "outputId": "d2e2652a-ea1b-4953-9bbf-b8fb6b48e6da"
      },
      "execution_count": 76,
      "outputs": [
        {
          "output_type": "stream",
          "name": "stdout",
          "text": [
            "Enter the year: 2024\n",
            "Enter the month (1-12): 8\n",
            "Number of days in 8 / 2024 is 31\n"
          ]
        }
      ]
    },
    {
      "cell_type": "markdown",
      "source": [
        "33. Write a Python program to solve a system of linear equations using conditional statements."
      ],
      "metadata": {
        "id": "5FjMT9dwZGmp"
      }
    },
    {
      "cell_type": "code",
      "source": [
        "a1 = float(input(\"Enter coefficient a1: \"))\n",
        "b1 = float(input(\"Enter coefficient b1: \"))\n",
        "c1 = float(input(\"Enter constant c1: \"))\n",
        "a2 = float(input(\"Enter coefficient a2: \"))\n",
        "b2 = float(input(\"Enter coefficient b2: \"))\n",
        "c2 = float(input(\"Enter constant c2: \"))\n",
        "\n",
        "# Check for parallel lines\n",
        "if a1/a2 == b1/b2 == c1/c2:\n",
        "  print(\"Infinite solutions\")\n",
        "elif a1/a2 == b1/b2 != c1/c2:\n",
        "  print(\"No solution\")\n",
        "else:\n",
        "  x = (c1*b2 - c2*b1) / (a1*b2 - a2*b1)\n",
        "  y = (a1*c2 - a2*c1) / (a1*b2 - a2*b1)\n",
        "  print(\"Solution: x =\", x, \", y =\", y)"
      ],
      "metadata": {
        "colab": {
          "base_uri": "https://localhost:8080/"
        },
        "id": "hMq06ai-ZO-i",
        "outputId": "4c818063-ffff-4c31-d236-d97381d9c24c"
      },
      "execution_count": 78,
      "outputs": [
        {
          "output_type": "stream",
          "name": "stdout",
          "text": [
            "Enter coefficient a1: 5\n",
            "Enter coefficient b1: 6\n",
            "Enter constant c1: 7\n",
            "Enter coefficient a2: 3\n",
            "Enter coefficient b2: 2\n",
            "Enter constant c2: 1\n",
            "Solution: x = -1.0 , y = 2.0\n"
          ]
        }
      ]
    },
    {
      "cell_type": "markdown",
      "source": [
        "34. Write a Python program to implement a simple calculator using if-else statements."
      ],
      "metadata": {
        "id": "A3bpQ4taZcMh"
      }
    },
    {
      "cell_type": "code",
      "source": [
        "num1 = float(input(\"Enter the first number: \"))\n",
        "operator = input(\"Enter the operator (+, -, *, /): \")\n",
        "num2 = float(input(\"Enter the second number: \"))\n",
        "\n",
        "if operator == '+':\n",
        "  result = num1 + num2\n",
        "elif operator == '-':\n",
        "  result = num1 - num2\n",
        "elif operator == '*':\n",
        "  result = num1 * num2\n",
        "elif operator == '/':\n",
        "  if num2 == 0:\n",
        "    print(\"Error: Division by zero\")\n",
        "  else:\n",
        "    result = num1 / num2\n",
        "else:\n",
        "  print(\"Invalid operator\")\n",
        "\n",
        "if operator in ['+', '-', '*', '/']:\n",
        "  print(\"Result:\", result)\n"
      ],
      "metadata": {
        "colab": {
          "base_uri": "https://localhost:8080/"
        },
        "id": "05BkCECSZeCI",
        "outputId": "5f5acbfc-ec28-4e5a-f3fd-ba416fd07f1a"
      },
      "execution_count": 79,
      "outputs": [
        {
          "output_type": "stream",
          "name": "stdout",
          "text": [
            "Enter the first number: 45\n",
            "Enter the operator (+, -, *, /): *\n",
            "Enter the second number: 3\n",
            "Result: 135.0\n"
          ]
        }
      ]
    },
    {
      "cell_type": "markdown",
      "source": [
        "35. Write a Python program to check if three numbers can form a Pythagorean triplet."
      ],
      "metadata": {
        "id": "8xtT0UDmZrDW"
      }
    },
    {
      "cell_type": "code",
      "source": [
        "num1 = int(input(\"Enter the first number: \"))\n",
        "num2 = int(input(\"Enter the second number: \"))\n",
        "num3 = int(input(\"Enter the third number: \"))\n",
        "\n",
        "sides = [num1, num2, num3]\n",
        "sides.sort()\n",
        "\n",
        "if sides[0]**2 + sides[1]**2 == sides[2]**2:\n",
        "  print(\"The numbers form a Pythagorean triplet\")\n",
        "else:\n",
        "  print(\"The numbers do not form a Pythagorean triplet\")\n"
      ],
      "metadata": {
        "colab": {
          "base_uri": "https://localhost:8080/"
        },
        "id": "1TOdAURMZtF-",
        "outputId": "e00829f9-5ad8-47ef-a8cf-0a82a5cf3e86"
      },
      "execution_count": 80,
      "outputs": [
        {
          "output_type": "stream",
          "name": "stdout",
          "text": [
            "Enter the first number: 3\n",
            "Enter the second number: 4\n",
            "Enter the third number: 5\n",
            "The numbers form a Pythagorean triplet\n"
          ]
        }
      ]
    },
    {
      "cell_type": "markdown",
      "source": [
        "36. Write a Python program to generate the Fibonacci sequence up to a given number and check if the sequence contains a prime number."
      ],
      "metadata": {
        "id": "5rceFI_ZZ9Yx"
      }
    },
    {
      "cell_type": "code",
      "source": [
        "num = int(input(\"Enter a number: \"))\n",
        "\n",
        "fib_sequence = [0, 1]\n",
        "while fib_sequence[-1] < num:\n",
        "  next_fib = fib_sequence[-1] + fib_sequence[-2]\n",
        "  fib_sequence.append(next_fib)\n",
        "\n",
        "print(\"Fibonacci sequence:\", fib_sequence)\n",
        "\n",
        "has_prime = False\n",
        "for num in fib_sequence:\n",
        "  if num <= 1:\n",
        "    continue\n",
        "  if num <= 3:\n",
        "    has_prime = True\n",
        "    break\n",
        "  if num % 2 == 0 or num % 3 == 0:\n",
        "    continue\n",
        "  i = 5\n",
        "  while i * i <= num:\n",
        "    if num % i == 0 or num % (i + 2) == 0:\n",
        "      break\n",
        "    i += 6\n",
        "  else:\n",
        "    has_prime = True\n",
        "    break\n",
        "\n",
        "if has_prime:\n",
        "  print(\"The Fibonacci sequence contains a prime number.\")\n",
        "else:\n",
        "  print(\"The Fibonacci sequence does not contain a prime number.\")\n"
      ],
      "metadata": {
        "colab": {
          "base_uri": "https://localhost:8080/"
        },
        "id": "GZWhsoZIZ_Sx",
        "outputId": "86bc8d05-9fad-42e8-fe46-cdd77912ad6b"
      },
      "execution_count": 82,
      "outputs": [
        {
          "output_type": "stream",
          "name": "stdout",
          "text": [
            "Enter a number: 8\n",
            "Fibonacci sequence: [0, 1, 1, 2, 3, 5, 8]\n",
            "The Fibonacci sequence contains a prime number.\n"
          ]
        }
      ]
    },
    {
      "cell_type": "markdown",
      "source": [
        "37. Write a Python program to check if a number is a Harshad number."
      ],
      "metadata": {
        "id": "Qn0JJGLwaJFo"
      }
    },
    {
      "cell_type": "code",
      "source": [
        "number = int(input(\"Enter a number: \"))\n",
        "\n",
        "temp = number\n",
        "sum_of_digits = 0\n",
        "\n",
        "while temp > 0:\n",
        "  digit = temp % 10\n",
        "  sum_of_digits += digit\n",
        "  temp //= 10\n",
        "\n",
        "if number % sum_of_digits == 0:\n",
        "  print(number, \"is a Harshad number\")\n",
        "else:\n",
        "  print(number, \"is not a Harshad number\")\n",
        "\n"
      ],
      "metadata": {
        "colab": {
          "base_uri": "https://localhost:8080/"
        },
        "id": "Hpj5si_faK5i",
        "outputId": "ac5123ef-9d8a-4bf9-a7d9-073eebd546a9"
      },
      "execution_count": 83,
      "outputs": [
        {
          "output_type": "stream",
          "name": "stdout",
          "text": [
            "Enter a number: 51044\n",
            "51044 is a Harshad number\n"
          ]
        }
      ]
    },
    {
      "cell_type": "markdown",
      "source": [
        "38. Write a Python program to find the largest prime factor of a number."
      ],
      "metadata": {
        "id": "eQ_5l3GDaxvb"
      }
    },
    {
      "cell_type": "code",
      "source": [
        "import math\n",
        "\n",
        "num = int(input(\"Enter a number: \"))\n",
        "\n",
        "while num % 2 == 0:\n",
        "  num //= 2\n",
        "\n",
        "for i in range(3, int(math.sqrt(num)) + 1, 2):\n",
        "  while num % i == 0:\n",
        "    num //= i\n",
        "\n",
        "if num > 2:\n",
        "  largest_prime_factor = num\n",
        "else:\n",
        "  largest_prime_factor = i - 2\n",
        "\n",
        "print(\"The largest prime factor of\", num, \"is\", largest_prime_factor)\n"
      ],
      "metadata": {
        "colab": {
          "base_uri": "https://localhost:8080/"
        },
        "id": "NugMox0Ua1Ki",
        "outputId": "a493c889-63f1-43d5-eed4-667ca2f9c8ae"
      },
      "execution_count": 86,
      "outputs": [
        {
          "output_type": "stream",
          "name": "stdout",
          "text": [
            "Enter a number: 90\n",
            "The largest prime factor of 1 is 3\n"
          ]
        }
      ]
    },
    {
      "cell_type": "markdown",
      "source": [
        "39. Write a Python program to simulate a basic ATM machine with deposit, withdrawal, and balance inquiry options using if-else statements."
      ],
      "metadata": {
        "id": "6J9Xh-v6az5i"
      }
    },
    {
      "cell_type": "code",
      "source": [
        "balance = 0\n",
        "\n",
        "while True:\n",
        "  print(\"\\nATM Menu\")\n",
        "  print(\"1. Deposit\")\n",
        "  print(\"2. Withdraw\")\n",
        "  print(\"3. Check Balance\")\n",
        "  print(\"4. Exit\")\n",
        "\n",
        "  choice = int(input(\"Enter your choice: \"))\n",
        "\n",
        "  if choice == 1:\n",
        "    amount = float(input(\"Enter deposit amount: \"))\n",
        "    balance += amount\n",
        "    print(\"Deposit successful. New balance:\", balance)\n",
        "  elif choice == 2:\n",
        "    amount = float(input(\"Enter withdrawal amount: \"))\n",
        "    if amount > balance:\n",
        "      print(\"Insufficient balance.\")\n",
        "    else:\n",
        "      balance -= amount\n",
        "      print(\"Withdrawal successful. New balance:\", balance)\n",
        "  elif choice == 3:\n",
        "    print(\"Current balance:\", balance)\n",
        "  elif choice == 4:\n",
        "    print(\"Thank you for using the ATM.\")\n",
        "    break\n",
        "  else:\n",
        "    print(\"Invalid choice.\")\n"
      ],
      "metadata": {
        "colab": {
          "base_uri": "https://localhost:8080/"
        },
        "id": "8ndBHA9XbOOE",
        "outputId": "a93f6ede-8666-4fc8-ccef-2c606408cdb6"
      },
      "execution_count": 88,
      "outputs": [
        {
          "output_type": "stream",
          "name": "stdout",
          "text": [
            "\n",
            "ATM Menu\n",
            "1. Deposit\n",
            "2. Withdraw\n",
            "3. Check Balance\n",
            "4. Exit\n",
            "Enter your choice: 1\n",
            "Enter deposit amount: 500\n",
            "Deposit successful. New balance: 500.0\n",
            "\n",
            "ATM Menu\n",
            "1. Deposit\n",
            "2. Withdraw\n",
            "3. Check Balance\n",
            "4. Exit\n",
            "Enter your choice: 2\n",
            "Enter withdrawal amount: 1000\n",
            "Insufficient balance.\n",
            "\n",
            "ATM Menu\n",
            "1. Deposit\n",
            "2. Withdraw\n",
            "3. Check Balance\n",
            "4. Exit\n",
            "Enter your choice: 4\n",
            "Thank you for using the ATM.\n"
          ]
        }
      ]
    },
    {
      "cell_type": "markdown",
      "source": [
        "40. Write a Python program to determine if a point lies inside, outside, or on a circle centered at the origin with a given radius."
      ],
      "metadata": {
        "id": "wxCi4u_Vbppn"
      }
    },
    {
      "cell_type": "code",
      "source": [
        "import math\n",
        "\n",
        "x = float(input(\"Enter the x-coordinate of the point: \"))\n",
        "y = float(input(\"Enter the y-coordinate of the point: \"))\n",
        "radius = float(input(\"Enter the radius of the circle: \"))\n",
        "\n",
        "distance = math.sqrt(x**2 + y**2)\n",
        "\n",
        "if distance < radius:\n",
        "  print(\"The point lies inside the circle.\")\n",
        "elif distance == radius:\n",
        "  print(\"The point lies on the circle.\")\n",
        "else:\n",
        "  print(\"The point lies outside the circle.\")\n"
      ],
      "metadata": {
        "colab": {
          "base_uri": "https://localhost:8080/"
        },
        "id": "X01a6ZohbseJ",
        "outputId": "b9ededea-015c-44dc-aae8-0b3715fb6367"
      },
      "execution_count": 89,
      "outputs": [
        {
          "output_type": "stream",
          "name": "stdout",
          "text": [
            "Enter the x-coordinate of the point: 5\n",
            "Enter the y-coordinate of the point: 6\n",
            "Enter the radius of the circle: 3\n",
            "The point lies outside the circle.\n"
          ]
        }
      ]
    }
  ]
}